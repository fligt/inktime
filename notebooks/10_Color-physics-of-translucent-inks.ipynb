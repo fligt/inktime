{
 "cells": [
  {
   "cell_type": "code",
   "execution_count": null,
   "metadata": {},
   "outputs": [],
   "source": [
    "#default_exp rgbkm"
   ]
  },
  {
   "cell_type": "code",
   "execution_count": null,
   "metadata": {},
   "outputs": [],
   "source": [
    "#hide \n",
    "%load_ext autoreload\n",
    "%autoreload 2"
   ]
  },
  {
   "cell_type": "markdown",
   "metadata": {},
   "source": [
    "# Color physics of translucent inks  "
   ]
  },
  {
   "cell_type": "markdown",
   "metadata": {},
   "source": [
    "## Rendering an RGB image\n",
    "\n",
    "*Explain Kubelka-Munk theory*"
   ]
  },
  {
   "cell_type": "code",
   "execution_count": null,
   "metadata": {},
   "outputs": [],
   "source": [
    "from inktime import data, rgbkm \n",
    "\n",
    "import numpy as np \n",
    "import matplotlib.pyplot as plt "
   ]
  },
  {
   "cell_type": "code",
   "execution_count": null,
   "metadata": {},
   "outputs": [],
   "source": [
    "Rg = data.fetch_blackwhite()[:,:,0:3]\n",
    "# todo: quick fix multiplier \n",
    "D = 5 * data.fetch_star()[:,:,0]"
   ]
  },
  {
   "cell_type": "code",
   "execution_count": null,
   "metadata": {},
   "outputs": [],
   "source": [
    "# Hansa yellow RGB KM parameters according to Curtis (1997)\n",
    "K_hansa = np.array([0.06, 0.21, 1.78]) \n",
    "S_hansa = np.array([0.50, 0.88, 0.009])"
   ]
  },
  {
   "cell_type": "code",
   "execution_count": null,
   "metadata": {},
   "outputs": [],
   "source": [
    "refl = rgbkm.reflectance(K_hansa, S_hansa, D, Rg)"
   ]
  },
  {
   "cell_type": "code",
   "execution_count": null,
   "metadata": {},
   "outputs": [
    {
     "data": {
      "image/png": "[encoded data removed]",
      "text/plain": [
       "<Figure size 432x288 with 1 Axes>"
      ]
     },
     "metadata": {
      "needs_background": "light"
     },
     "output_type": "display_data"
    }
   ],
   "source": [
    "plt.imshow(refl);"
   ]
  },
  {
   "cell_type": "markdown",
   "metadata": {},
   "source": [
    "## Functions  "
   ]
  },
  {
   "cell_type": "code",
   "execution_count": null,
   "metadata": {},
   "outputs": [],
   "source": [
    "#export \n",
    "import numpy as np \n",
    "import matplotlib.pyplot as plt\n",
    "import matplotlib.cm as cm\n",
    "import cv2 \n",
    "\n",
    "import scipy.optimize as optimize \n",
    "\n",
    "\n",
    "def reflectance(K, S, D, Rg):\n",
    "    '''Calculates reflectance for single colorant Kubelka-Munk model. \n",
    "    \n",
    "    Based on Nobbs (1997) formulation with modified Saunderson expression for infinite reflectance.  \n",
    "    Function works for single channel, 3 RGB channels, and spectral data/images with muliple wavelength channels. \n",
    "    \n",
    "    \n",
    "    Parameters: \n",
    "    -----------  \n",
    "        K: tuple-like (n channels)   \n",
    "            Colorant absorption coefficients for wavelength or RGB channels\n",
    "        S: tuple-like (n channels)   \n",
    "            Colorant scattering coefficients for wavelength or RGB channels\n",
    "        D: array ( height x width)   \n",
    "            Colorant thickness image   \n",
    "        Rg: array (height x width x n) or rgb tuple with shape (3,)  \n",
    "            Background reflectance image or background color    \n",
    "         \n",
    "    Returns:  \n",
    "    --------   \n",
    "        refl: array (height x width x n)   \n",
    "            n-channel reflectance image  \n",
    "        \n",
    "    '''\n",
    "    \n",
    "    # create uniform background image if Rg is rgb tuple \n",
    "    \n",
    "    Rg = np.array(Rg)\n",
    "    shape = Rg.shape \n",
    "    \n",
    "    if len(shape) == 1: # understood as rgb tuple \n",
    "        \n",
    "        h, w = D.shape \n",
    "        \n",
    "        Rg_img = np.ones([h, w, 3])\n",
    "        Rg_img[:,:] = Rg  \n",
    "        Rg = Rg_img \n",
    "    \n",
    "        shape = Rg.shape  \n",
    "        \n",
    "    \n",
    "    \n",
    "    n_channels = shape[-1]\n",
    "    \n",
    "    K = np.array(K).reshape(1, n_channels)\n",
    "    S = np.array(S).reshape(1, n_channels)\n",
    "    \n",
    "    D = np.array(D).reshape(-1, 1)\n",
    "    Rg = Rg.reshape(-1, n_channels)\n",
    "    \n",
    "    # need to return infinity for K =< 0 or S < 0 in optimization code \n",
    "    #pos_S = S >= 0 \n",
    "    #pos_K = K > 0 # also non-zero\n",
    "    #ok = pos_S & pos_K\n",
    "    \n",
    "    #Rinf = np.zeros([1, n_channels]) \n",
    "    Rinf = (S/K) / ((S/K) + 1 + np.sqrt(1 + 2 * (S/K)))\n",
    "    #Rinf[ok] = (S[ok]/K[ok]) / ((S[ok]/K[ok]) + 1 + np.sqrt(1 + 2 * (S[ok]/K[ok])))\n",
    "    #Rinf[~ok] = np.infty\n",
    "    \n",
    "    Z = D * np.sqrt(K * (K + 2 * S))\n",
    "    \n",
    "    Z = np.clip(Z, a_min=0, a_max=50)\n",
    "    \n",
    "    beta = np.exp(2 * Z) - 1\n",
    "    alpha = (1 - Rinf**2) / (1 - Rg * Rinf)\n",
    "    \n",
    "    refl = (alpha * Rg + beta * Rinf) / (alpha + beta)\n",
    "    refl = refl.reshape(shape)\n",
    "    \n",
    "    return refl "
   ]
  },
  {
   "cell_type": "code",
   "execution_count": null,
   "metadata": {},
   "outputs": [],
   "source": []
  },
  {
   "cell_type": "code",
   "execution_count": null,
   "metadata": {},
   "outputs": [],
   "source": [
    "# hide \n",
    "def get_optical_density(img, bg_color, blf=True): \n",
    "    '''Generates ideal ink optical density model for *img* with background color *bg_color*.'''\n",
    "    \n",
    "    # generate uniform background\n",
    "    \n",
    "    paper_color_img = np.ones_like(img) \n",
    "    paper_color_img[:,:] = bg_color\n",
    "    \n",
    "    # not sure if this is needed \n",
    "    \n",
    "    if blf:\n",
    "        img = cv2.bilateralFilter(img, 10, 0.1, 120) # got these params from 2018-11-16 notebook  \n",
    "        img_blf = img\n",
    "\n",
    "    rgb = img.transpose(2, 0, 1)\n",
    "    r, g, b = rgb \n",
    "    \n",
    "    img_od = mu.normalize_image(-np.log(np.clip(img/paper_color_img, a_min=0, a_max=1)))\n",
    "    \n",
    "    return img_od\n",
    "\n",
    "\n",
    "class PaintDistribution: \n",
    "    '''Single colorant layer model'''\n",
    "    \n",
    "    def __init__(self, D, Rg, R_meas): \n",
    "        '''Initializes statigraphic model with thickness array *D*, background array *Rg* and measured array *R_meas*. '''\n",
    "        \n",
    "        self.D = D\n",
    "        self.Rg = Rg \n",
    "        self.R_meas = R_meas \n",
    "        \n",
    "        D_max = self.D.max()\n",
    "        \n",
    "        if D_max > 10: \n",
    "            print('Warning: found maxium thickness {} larger then 10. Might cause numerical problems.'.format(D_max))\n",
    "        \n",
    "    # better .residuals ??     \n",
    "        \n",
    "    def residuals(self, KS): \n",
    "        '''Returns residuals vector between measured and calculated for *KS*  '''\n",
    "        \n",
    "        n_channels = int(len(KS) / 2) \n",
    "\n",
    "        K, S = KS[0:n_channels], KS[n_channels: 2*n_channels] # split vector \n",
    "\n",
    "        img_calc = reflectance(K, S, self.D, self.Rg)\n",
    "\n",
    "        img_diff = self.R_meas - img_calc \n",
    "        \n",
    "        is_non_zero_thickness = self.D > 0 \n",
    "\n",
    "        res = img_diff[is_non_zero_thickness].flatten()\n",
    "        res = res**2 # check quadratic \n",
    "        \n",
    "        return res \n",
    "    \n",
    "    def fit_KS(self): \n",
    "        '''Non-linear fit of K and S for stratigraphic model'''\n",
    "        \n",
    "        n_channels = self.Rg.shape[-1] \n",
    "        \n",
    "        KS_start = np.ones(2 * n_channels) \n",
    "        \n",
    "        KS_min = np.ones(2 * n_channels) * 10e-8 # not sure if this avoids numerical problems \n",
    "        KS_max = np.ones(2 * n_channels) * 100 # same \n",
    "        \n",
    "        bounds = [KS_min, KS_max]\n",
    "        \n",
    "        fit = optimize.least_squares(self.residuals, KS_start, verbose=1, bounds=bounds, xtol=1e-10, ftol=1e-10, gtol=1e-10) # self is callable (function object)\n",
    "        \n",
    "        self.K_fit, self.S_fit = fit.x[0:n_channels], fit.x[n_channels:2*n_channels]\n",
    "        \n",
    "        self.R_fit = reflectance(self.K_fit, self.S_fit, self.D, self.Rg) # for convenience\n",
    "        \n",
    "        return self.K_fit, self.S_fit\n",
    "    \n",
    "\n",
    "    \n",
    "class Ramp_model: \n",
    "    \n",
    "    \n",
    "    def __init__(self, material, rgb_bg, rgb_1, rgb_2, thickness_1, thickness_2): \n",
    "    \n",
    "        '''Fits K and S to a simple two patch ramp model '''\n",
    "        \n",
    "        # should extend to n-patches list but not now \n",
    "\n",
    "        self.material = material \n",
    "        \n",
    "        self.Rg = np.ones([3, 4, 3], dtype=float) \n",
    "        self.Rg[:,:] = rgb_bg\n",
    "\n",
    "        self.R_meas = self.Rg.copy()\n",
    "        self.R_meas[1, 1:3] = np.array([rgb_1, rgb_2]) \n",
    "\n",
    "        self.D = np.zeros([3, 4]) \n",
    "        self.D[1, 1:3] = [thickness_1, thickness_2] \n",
    "\n",
    "        pdist = PaintDistribution(self.D, self.Rg, self.R_meas)\n",
    "\n",
    "        self.K_fit, self.S_fit = pdist.fit_KS()\n",
    "\n",
    "        self.rendering = reflectance(self.K_fit, self.S_fit, self.D, self.Rg)\n",
    "\n",
    "        print('Created 3x4 pixel ramp model object for: \"{}\"'.format(self.material))"
   ]
  }
 ],
 "metadata": {
  "kernelspec": {
   "display_name": "Python 3",
   "language": "python",
   "name": "python3"
  }
 },
 "nbformat": 4,
 "nbformat_minor": 2
}
