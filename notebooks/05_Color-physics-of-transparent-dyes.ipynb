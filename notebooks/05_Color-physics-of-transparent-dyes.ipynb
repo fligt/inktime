{
 "cells": [
  {
   "cell_type": "markdown",
   "metadata": {},
   "source": [
    "# Color physics of transparent dyes "
   ]
  },
  {
   "cell_type": "markdown",
   "metadata": {},
   "source": [
    "> Why do all inks in their bottles look black? \n",
    "\n",
    "## Transparent is the absence of scattering \n",
    "\n",
    "\\<More explanation here\\>"
   ]
  },
  {
   "cell_type": "markdown",
   "metadata": {},
   "source": [
    "![ink bottle](images/eosine.jpg)\n",
    "\n",
    "    A transparent color on a black background remains black.\n",
    "\n",
    "\\<Lambert-Beer\\>"
   ]
  },
  {
   "cell_type": "markdown",
   "metadata": {},
   "source": []
  }
 ],
 "metadata": {
  "kernelspec": {
   "display_name": "Python 3",
   "language": "python",
   "name": "python3"
  }
 },
 "nbformat": 4,
 "nbformat_minor": 2
}
