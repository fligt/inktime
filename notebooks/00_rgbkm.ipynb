{
 "cells": [
  {
   "cell_type": "code",
   "execution_count": null,
   "metadata": {},
   "outputs": [],
   "source": [
    "#default_exp rgbkm"
   ]
  },
  {
   "cell_type": "code",
   "execution_count": null,
   "metadata": {},
   "outputs": [],
   "source": [
    "#hide \n",
    "%load_ext autoreload\n",
    "%autoreload 2"
   ]
  },
  {
   "cell_type": "markdown",
   "metadata": {},
   "source": [
    "# `rgbkm` - Color physics of translucent inks  "
   ]
  },
  {
   "cell_type": "markdown",
   "metadata": {},
   "source": [
    "*In order to demonstrate the reflectance function I need to generate or fetch ink distribution input images in a way similar to skimage. /pooch. Need to do this first. See data sub module.* "
   ]
  },
  {
   "cell_type": "code",
   "execution_count": null,
   "metadata": {},
   "outputs": [],
   "source": [
    "import inktime as ink\n",
    "import pkg_resources\n",
    "import pooch\n",
    "import numpy\n",
    "import matplotlib.pyplot as plt "
   ]
  },
  {
   "cell_type": "code",
   "execution_count": null,
   "metadata": {},
   "outputs": [],
   "source": [
    "GOODBOY = pooch.create(\n",
    "    # Use the default cache folder for the OS\n",
    "    path=pooch.os_cache('inktime'),\n",
    "    # The remote data is on Github\n",
    "    base_url='https://github.com/fligt/inktime/tree/master/data/',\n",
    "    version=None,\n",
    "    # If this is a development version, get the data from the master branch\n",
    "    version_dev=None,\n",
    "    # We'll load it from a file later\n",
    "    registry=None,\n",
    ")"
   ]
  },
  {
   "cell_type": "code",
   "execution_count": null,
   "metadata": {},
   "outputs": [],
   "source": [
    "registry_file = pkg_resources.resource_stream('inktime', 'registry.txt')\n",
    "GOODBOY.load_registry(registry_file)"
   ]
  },
  {
   "cell_type": "code",
   "execution_count": null,
   "metadata": {},
   "outputs": [
    {
     "data": {
      "text/plain": [
       "['blackwhite.png', 'star.png']"
      ]
     },
     "execution_count": null,
     "metadata": {},
     "output_type": "execute_result"
    }
   ],
   "source": [
    "GOODBOY.registry_files"
   ]
  },
  {
   "cell_type": "code",
   "execution_count": null,
   "metadata": {},
   "outputs": [
    {
     "data": {
      "text/plain": [
       "{'blackwhite.png': '01be1b33d5a8af2545057a932fdbd499b6853c519ca6c3ada23403c45719f8b3',\n",
       " 'star.png': 'c5429a45af92b56e0d913e3a4e1f3d61cbe4d94a34caa819762a28344dd06dc5'}"
      ]
     },
     "execution_count": null,
     "metadata": {},
     "output_type": "execute_result"
    }
   ],
   "source": [
    "GOODBOY.registry"
   ]
  },
  {
   "cell_type": "code",
   "execution_count": null,
   "metadata": {},
   "outputs": [],
   "source": [
    "def fetch_blackwhite():\n",
    "    \"\"\"\n",
    "    Load the star.png sample data as a numpy array.\n",
    "    \"\"\"\n",
    "    fname = GOODBOY.fetch('blackwhite.png')\n",
    "    data = plt.imread(fname)\n",
    "    return data"
   ]
  },
  {
   "cell_type": "code",
   "execution_count": null,
   "metadata": {},
   "outputs": [
    {
     "name": "stderr",
     "output_type": "stream",
     "text": [
      "Downloading file 'blackwhite.png' from 'https://github.com/fligt/inktime/tree/master/data/blackwhite.png' to '/home/frank/.cache/inktime'.\n"
     ]
    },
    {
     "ename": "HTTPError",
     "evalue": "404 Client Error: Not Found for url: https://github.com/fligt/inktime/tree/master/data/blackwhite.png",
     "output_type": "error",
     "traceback": [
      "\u001b[0;31m---------------------------------------------------------------------------\u001b[0m",
      "\u001b[0;31mHTTPError\u001b[0m                                 Traceback (most recent call last)",
      "\u001b[0;32m<ipython-input-43-9612dcae36af>\u001b[0m in \u001b[0;36m<module>\u001b[0;34m\u001b[0m\n\u001b[0;32m----> 1\u001b[0;31m \u001b[0mbw\u001b[0m \u001b[0;34m=\u001b[0m \u001b[0mfetch_blackwhite\u001b[0m\u001b[0;34m(\u001b[0m\u001b[0;34m)\u001b[0m\u001b[0;34m\u001b[0m\u001b[0;34m\u001b[0m\u001b[0m\n\u001b[0m",
      "\u001b[0;32m<ipython-input-42-be8a1ec24e79>\u001b[0m in \u001b[0;36mfetch_blackwhite\u001b[0;34m()\u001b[0m\n\u001b[1;32m      3\u001b[0m     \u001b[0mLoad\u001b[0m \u001b[0mthe\u001b[0m \u001b[0mstar\u001b[0m\u001b[0;34m.\u001b[0m\u001b[0mpng\u001b[0m \u001b[0msample\u001b[0m \u001b[0mdata\u001b[0m \u001b[0;32mas\u001b[0m \u001b[0ma\u001b[0m \u001b[0mnumpy\u001b[0m \u001b[0marray\u001b[0m\u001b[0;34m.\u001b[0m\u001b[0;34m\u001b[0m\u001b[0;34m\u001b[0m\u001b[0m\n\u001b[1;32m      4\u001b[0m     \"\"\"\n\u001b[0;32m----> 5\u001b[0;31m     \u001b[0mfname\u001b[0m \u001b[0;34m=\u001b[0m \u001b[0mGOODBOY\u001b[0m\u001b[0;34m.\u001b[0m\u001b[0mfetch\u001b[0m\u001b[0;34m(\u001b[0m\u001b[0;34m'blackwhite.png'\u001b[0m\u001b[0;34m)\u001b[0m\u001b[0;34m\u001b[0m\u001b[0;34m\u001b[0m\u001b[0m\n\u001b[0m\u001b[1;32m      6\u001b[0m     \u001b[0mdata\u001b[0m \u001b[0;34m=\u001b[0m \u001b[0mplt\u001b[0m\u001b[0;34m.\u001b[0m\u001b[0mimread\u001b[0m\u001b[0;34m(\u001b[0m\u001b[0mfname\u001b[0m\u001b[0;34m)\u001b[0m\u001b[0;34m\u001b[0m\u001b[0;34m\u001b[0m\u001b[0m\n\u001b[1;32m      7\u001b[0m     \u001b[0;32mreturn\u001b[0m \u001b[0mdata\u001b[0m\u001b[0;34m\u001b[0m\u001b[0;34m\u001b[0m\u001b[0m\n",
      "\u001b[0;32m~/anaconda3/lib/python3.7/site-packages/pooch/core.py\u001b[0m in \u001b[0;36mfetch\u001b[0;34m(self, fname, processor, downloader)\u001b[0m\n\u001b[1;32m    577\u001b[0m                 \u001b[0mdownloader\u001b[0m \u001b[0;34m=\u001b[0m \u001b[0mchoose_downloader\u001b[0m\u001b[0;34m(\u001b[0m\u001b[0murl\u001b[0m\u001b[0;34m)\u001b[0m\u001b[0;34m\u001b[0m\u001b[0;34m\u001b[0m\u001b[0m\n\u001b[1;32m    578\u001b[0m \u001b[0;34m\u001b[0m\u001b[0m\n\u001b[0;32m--> 579\u001b[0;31m             \u001b[0mstream_download\u001b[0m\u001b[0;34m(\u001b[0m\u001b[0murl\u001b[0m\u001b[0;34m,\u001b[0m \u001b[0mfull_path\u001b[0m\u001b[0;34m,\u001b[0m \u001b[0mknown_hash\u001b[0m\u001b[0;34m,\u001b[0m \u001b[0mdownloader\u001b[0m\u001b[0;34m,\u001b[0m \u001b[0mpooch\u001b[0m\u001b[0;34m=\u001b[0m\u001b[0mself\u001b[0m\u001b[0;34m)\u001b[0m\u001b[0;34m\u001b[0m\u001b[0;34m\u001b[0m\u001b[0m\n\u001b[0m\u001b[1;32m    580\u001b[0m \u001b[0;34m\u001b[0m\u001b[0m\n\u001b[1;32m    581\u001b[0m         \u001b[0;32mif\u001b[0m \u001b[0mprocessor\u001b[0m \u001b[0;32mis\u001b[0m \u001b[0;32mnot\u001b[0m \u001b[0;32mNone\u001b[0m\u001b[0;34m:\u001b[0m\u001b[0;34m\u001b[0m\u001b[0;34m\u001b[0m\u001b[0m\n",
      "\u001b[0;32m~/anaconda3/lib/python3.7/site-packages/pooch/core.py\u001b[0m in \u001b[0;36mstream_download\u001b[0;34m(url, fname, known_hash, downloader, pooch)\u001b[0m\n\u001b[1;32m    745\u001b[0m     \u001b[0;31m# before overwriting the original.\u001b[0m\u001b[0;34m\u001b[0m\u001b[0;34m\u001b[0m\u001b[0;34m\u001b[0m\u001b[0m\n\u001b[1;32m    746\u001b[0m     \u001b[0;32mwith\u001b[0m \u001b[0mtemporary_file\u001b[0m\u001b[0;34m(\u001b[0m\u001b[0mpath\u001b[0m\u001b[0;34m=\u001b[0m\u001b[0mstr\u001b[0m\u001b[0;34m(\u001b[0m\u001b[0mfname\u001b[0m\u001b[0;34m.\u001b[0m\u001b[0mparent\u001b[0m\u001b[0;34m)\u001b[0m\u001b[0;34m)\u001b[0m \u001b[0;32mas\u001b[0m \u001b[0mtmp\u001b[0m\u001b[0;34m:\u001b[0m\u001b[0;34m\u001b[0m\u001b[0;34m\u001b[0m\u001b[0m\n\u001b[0;32m--> 747\u001b[0;31m         \u001b[0mdownloader\u001b[0m\u001b[0;34m(\u001b[0m\u001b[0murl\u001b[0m\u001b[0;34m,\u001b[0m \u001b[0mtmp\u001b[0m\u001b[0;34m,\u001b[0m \u001b[0mpooch\u001b[0m\u001b[0;34m)\u001b[0m\u001b[0;34m\u001b[0m\u001b[0;34m\u001b[0m\u001b[0m\n\u001b[0m\u001b[1;32m    748\u001b[0m         \u001b[0mhash_matches\u001b[0m\u001b[0;34m(\u001b[0m\u001b[0mtmp\u001b[0m\u001b[0;34m,\u001b[0m \u001b[0mknown_hash\u001b[0m\u001b[0;34m,\u001b[0m \u001b[0mstrict\u001b[0m\u001b[0;34m=\u001b[0m\u001b[0;32mTrue\u001b[0m\u001b[0;34m,\u001b[0m \u001b[0msource\u001b[0m\u001b[0;34m=\u001b[0m\u001b[0mstr\u001b[0m\u001b[0;34m(\u001b[0m\u001b[0mfname\u001b[0m\u001b[0;34m.\u001b[0m\u001b[0mname\u001b[0m\u001b[0;34m)\u001b[0m\u001b[0;34m)\u001b[0m\u001b[0;34m\u001b[0m\u001b[0;34m\u001b[0m\u001b[0m\n\u001b[1;32m    749\u001b[0m         \u001b[0mshutil\u001b[0m\u001b[0;34m.\u001b[0m\u001b[0mmove\u001b[0m\u001b[0;34m(\u001b[0m\u001b[0mtmp\u001b[0m\u001b[0;34m,\u001b[0m \u001b[0mstr\u001b[0m\u001b[0;34m(\u001b[0m\u001b[0mfname\u001b[0m\u001b[0;34m)\u001b[0m\u001b[0;34m)\u001b[0m\u001b[0;34m\u001b[0m\u001b[0;34m\u001b[0m\u001b[0m\n",
      "\u001b[0;32m~/anaconda3/lib/python3.7/site-packages/pooch/downloaders.py\u001b[0m in \u001b[0;36m__call__\u001b[0;34m(self, url, output_file, pooch)\u001b[0m\n\u001b[1;32m    166\u001b[0m         \u001b[0;32mtry\u001b[0m\u001b[0;34m:\u001b[0m\u001b[0;34m\u001b[0m\u001b[0;34m\u001b[0m\u001b[0m\n\u001b[1;32m    167\u001b[0m             \u001b[0mresponse\u001b[0m \u001b[0;34m=\u001b[0m \u001b[0mrequests\u001b[0m\u001b[0;34m.\u001b[0m\u001b[0mget\u001b[0m\u001b[0;34m(\u001b[0m\u001b[0murl\u001b[0m\u001b[0;34m,\u001b[0m \u001b[0;34m**\u001b[0m\u001b[0mkwargs\u001b[0m\u001b[0;34m)\u001b[0m\u001b[0;34m\u001b[0m\u001b[0;34m\u001b[0m\u001b[0m\n\u001b[0;32m--> 168\u001b[0;31m             \u001b[0mresponse\u001b[0m\u001b[0;34m.\u001b[0m\u001b[0mraise_for_status\u001b[0m\u001b[0;34m(\u001b[0m\u001b[0;34m)\u001b[0m\u001b[0;34m\u001b[0m\u001b[0;34m\u001b[0m\u001b[0m\n\u001b[0m\u001b[1;32m    169\u001b[0m             \u001b[0mcontent\u001b[0m \u001b[0;34m=\u001b[0m \u001b[0mresponse\u001b[0m\u001b[0;34m.\u001b[0m\u001b[0miter_content\u001b[0m\u001b[0;34m(\u001b[0m\u001b[0mchunk_size\u001b[0m\u001b[0;34m=\u001b[0m\u001b[0mself\u001b[0m\u001b[0;34m.\u001b[0m\u001b[0mchunk_size\u001b[0m\u001b[0;34m)\u001b[0m\u001b[0;34m\u001b[0m\u001b[0;34m\u001b[0m\u001b[0m\n\u001b[1;32m    170\u001b[0m             \u001b[0;32mif\u001b[0m \u001b[0mself\u001b[0m\u001b[0;34m.\u001b[0m\u001b[0mprogressbar\u001b[0m\u001b[0;34m:\u001b[0m\u001b[0;34m\u001b[0m\u001b[0;34m\u001b[0m\u001b[0m\n",
      "\u001b[0;32m~/anaconda3/lib/python3.7/site-packages/requests/models.py\u001b[0m in \u001b[0;36mraise_for_status\u001b[0;34m(self)\u001b[0m\n\u001b[1;32m    939\u001b[0m \u001b[0;34m\u001b[0m\u001b[0m\n\u001b[1;32m    940\u001b[0m         \u001b[0;32mif\u001b[0m \u001b[0mhttp_error_msg\u001b[0m\u001b[0;34m:\u001b[0m\u001b[0;34m\u001b[0m\u001b[0;34m\u001b[0m\u001b[0m\n\u001b[0;32m--> 941\u001b[0;31m             \u001b[0;32mraise\u001b[0m \u001b[0mHTTPError\u001b[0m\u001b[0;34m(\u001b[0m\u001b[0mhttp_error_msg\u001b[0m\u001b[0;34m,\u001b[0m \u001b[0mresponse\u001b[0m\u001b[0;34m=\u001b[0m\u001b[0mself\u001b[0m\u001b[0;34m)\u001b[0m\u001b[0;34m\u001b[0m\u001b[0;34m\u001b[0m\u001b[0m\n\u001b[0m\u001b[1;32m    942\u001b[0m \u001b[0;34m\u001b[0m\u001b[0m\n\u001b[1;32m    943\u001b[0m     \u001b[0;32mdef\u001b[0m \u001b[0mclose\u001b[0m\u001b[0;34m(\u001b[0m\u001b[0mself\u001b[0m\u001b[0;34m)\u001b[0m\u001b[0;34m:\u001b[0m\u001b[0;34m\u001b[0m\u001b[0;34m\u001b[0m\u001b[0m\n",
      "\u001b[0;31mHTTPError\u001b[0m: 404 Client Error: Not Found for url: https://github.com/fligt/inktime/tree/master/data/blackwhite.png"
     ]
    }
   ],
   "source": [
    "bw = fetch_blackwhite()"
   ]
  },
  {
   "cell_type": "code",
   "execution_count": null,
   "metadata": {},
   "outputs": [
    {
     "name": "stdout",
     "output_type": "stream",
     "text": [
      "> \u001b[0;32m/home/frank/anaconda3/lib/python3.7/site-packages/pooch/utils.py\u001b[0m(380)\u001b[0;36mhash_matches\u001b[0;34m()\u001b[0m\n",
      "\u001b[0;32m    378 \u001b[0;31m            \u001b[0;34m\" The downloaded file may have been corrupted or\"\u001b[0m\u001b[0;34m\u001b[0m\u001b[0;34m\u001b[0m\u001b[0m\n",
      "\u001b[0m\u001b[0;32m    379 \u001b[0;31m            \" the known hash may be outdated.\".format(\n",
      "\u001b[0m\u001b[0;32m--> 380 \u001b[0;31m                \u001b[0malgorithm\u001b[0m\u001b[0;34m.\u001b[0m\u001b[0mupper\u001b[0m\u001b[0;34m(\u001b[0m\u001b[0;34m)\u001b[0m\u001b[0;34m,\u001b[0m \u001b[0msource\u001b[0m\u001b[0;34m,\u001b[0m \u001b[0mknown_hash\u001b[0m\u001b[0;34m,\u001b[0m \u001b[0mnew_hash\u001b[0m\u001b[0;34m,\u001b[0m\u001b[0;34m\u001b[0m\u001b[0;34m\u001b[0m\u001b[0m\n",
      "\u001b[0m\u001b[0;32m    381 \u001b[0;31m            )\n",
      "\u001b[0m\u001b[0;32m    382 \u001b[0;31m        )\n",
      "\u001b[0m\n",
      "ipdb> u\n",
      "> \u001b[0;32m/home/frank/anaconda3/lib/python3.7/site-packages/pooch/core.py\u001b[0m(748)\u001b[0;36mstream_download\u001b[0;34m()\u001b[0m\n",
      "\u001b[0;32m    745 \u001b[0;31m    \u001b[0;31m# before overwriting the original.\u001b[0m\u001b[0;34m\u001b[0m\u001b[0;34m\u001b[0m\u001b[0;34m\u001b[0m\u001b[0m\n",
      "\u001b[0m\u001b[0;32m    746 \u001b[0;31m    \u001b[0;32mwith\u001b[0m \u001b[0mtemporary_file\u001b[0m\u001b[0;34m(\u001b[0m\u001b[0mpath\u001b[0m\u001b[0;34m=\u001b[0m\u001b[0mstr\u001b[0m\u001b[0;34m(\u001b[0m\u001b[0mfname\u001b[0m\u001b[0;34m.\u001b[0m\u001b[0mparent\u001b[0m\u001b[0;34m)\u001b[0m\u001b[0;34m)\u001b[0m \u001b[0;32mas\u001b[0m \u001b[0mtmp\u001b[0m\u001b[0;34m:\u001b[0m\u001b[0;34m\u001b[0m\u001b[0;34m\u001b[0m\u001b[0m\n",
      "\u001b[0m\u001b[0;32m    747 \u001b[0;31m        \u001b[0mdownloader\u001b[0m\u001b[0;34m(\u001b[0m\u001b[0murl\u001b[0m\u001b[0;34m,\u001b[0m \u001b[0mtmp\u001b[0m\u001b[0;34m,\u001b[0m \u001b[0mpooch\u001b[0m\u001b[0;34m)\u001b[0m\u001b[0;34m\u001b[0m\u001b[0;34m\u001b[0m\u001b[0m\n",
      "\u001b[0m\u001b[0;32m--> 748 \u001b[0;31m        \u001b[0mhash_matches\u001b[0m\u001b[0;34m(\u001b[0m\u001b[0mtmp\u001b[0m\u001b[0;34m,\u001b[0m \u001b[0mknown_hash\u001b[0m\u001b[0;34m,\u001b[0m \u001b[0mstrict\u001b[0m\u001b[0;34m=\u001b[0m\u001b[0;32mTrue\u001b[0m\u001b[0;34m,\u001b[0m \u001b[0msource\u001b[0m\u001b[0;34m=\u001b[0m\u001b[0mstr\u001b[0m\u001b[0;34m(\u001b[0m\u001b[0mfname\u001b[0m\u001b[0;34m.\u001b[0m\u001b[0mname\u001b[0m\u001b[0;34m)\u001b[0m\u001b[0;34m)\u001b[0m\u001b[0;34m\u001b[0m\u001b[0;34m\u001b[0m\u001b[0m\n",
      "\u001b[0m\u001b[0;32m    749 \u001b[0;31m        \u001b[0mshutil\u001b[0m\u001b[0;34m.\u001b[0m\u001b[0mmove\u001b[0m\u001b[0;34m(\u001b[0m\u001b[0mtmp\u001b[0m\u001b[0;34m,\u001b[0m \u001b[0mstr\u001b[0m\u001b[0;34m(\u001b[0m\u001b[0mfname\u001b[0m\u001b[0;34m)\u001b[0m\u001b[0;34m)\u001b[0m\u001b[0;34m\u001b[0m\u001b[0;34m\u001b[0m\u001b[0m\n",
      "\u001b[0m\n",
      "ipdb> u\n",
      "> \u001b[0;32m/home/frank/anaconda3/lib/python3.7/site-packages/pooch/core.py\u001b[0m(579)\u001b[0;36mfetch\u001b[0;34m()\u001b[0m\n",
      "\u001b[0;32m    577 \u001b[0;31m                \u001b[0mdownloader\u001b[0m \u001b[0;34m=\u001b[0m \u001b[0mchoose_downloader\u001b[0m\u001b[0;34m(\u001b[0m\u001b[0murl\u001b[0m\u001b[0;34m)\u001b[0m\u001b[0;34m\u001b[0m\u001b[0;34m\u001b[0m\u001b[0m\n",
      "\u001b[0m\u001b[0;32m    578 \u001b[0;31m\u001b[0;34m\u001b[0m\u001b[0m\n",
      "\u001b[0m\u001b[0;32m--> 579 \u001b[0;31m            \u001b[0mstream_download\u001b[0m\u001b[0;34m(\u001b[0m\u001b[0murl\u001b[0m\u001b[0;34m,\u001b[0m \u001b[0mfull_path\u001b[0m\u001b[0;34m,\u001b[0m \u001b[0mknown_hash\u001b[0m\u001b[0;34m,\u001b[0m \u001b[0mdownloader\u001b[0m\u001b[0;34m,\u001b[0m \u001b[0mpooch\u001b[0m\u001b[0;34m=\u001b[0m\u001b[0mself\u001b[0m\u001b[0;34m)\u001b[0m\u001b[0;34m\u001b[0m\u001b[0;34m\u001b[0m\u001b[0m\n",
      "\u001b[0m\u001b[0;32m    580 \u001b[0;31m\u001b[0;34m\u001b[0m\u001b[0m\n",
      "\u001b[0m\u001b[0;32m    581 \u001b[0;31m        \u001b[0;32mif\u001b[0m \u001b[0mprocessor\u001b[0m \u001b[0;32mis\u001b[0m \u001b[0;32mnot\u001b[0m \u001b[0;32mNone\u001b[0m\u001b[0;34m:\u001b[0m\u001b[0;34m\u001b[0m\u001b[0;34m\u001b[0m\u001b[0m\n",
      "\u001b[0m\n",
      "ipdb> p full_path\n",
      "PosixPath('/home/frank/.cache/inktime/demos/blackwhite.png')\n",
      "ipdb> u\n",
      "> \u001b[0;32m<ipython-input-24-420f34e378d3>\u001b[0m(5)\u001b[0;36mfetch_blackwhite\u001b[0;34m()\u001b[0m\n",
      "\u001b[0;32m      3 \u001b[0;31m    \u001b[0mLoad\u001b[0m \u001b[0mthe\u001b[0m \u001b[0mstar\u001b[0m\u001b[0;34m.\u001b[0m\u001b[0mpng\u001b[0m \u001b[0msample\u001b[0m \u001b[0mdata\u001b[0m \u001b[0;32mas\u001b[0m \u001b[0ma\u001b[0m \u001b[0mnumpy\u001b[0m \u001b[0marray\u001b[0m\u001b[0;34m.\u001b[0m\u001b[0;34m\u001b[0m\u001b[0;34m\u001b[0m\u001b[0m\n",
      "\u001b[0m\u001b[0;32m      4 \u001b[0;31m    \"\"\"\n",
      "\u001b[0m\u001b[0;32m----> 5 \u001b[0;31m    \u001b[0mfname\u001b[0m \u001b[0;34m=\u001b[0m \u001b[0mGOODBOY\u001b[0m\u001b[0;34m.\u001b[0m\u001b[0mfetch\u001b[0m\u001b[0;34m(\u001b[0m\u001b[0;34m'demos/blackwhite.png'\u001b[0m\u001b[0;34m)\u001b[0m\u001b[0;34m\u001b[0m\u001b[0;34m\u001b[0m\u001b[0m\n",
      "\u001b[0m\u001b[0;32m      6 \u001b[0;31m    \u001b[0mdata\u001b[0m \u001b[0;34m=\u001b[0m \u001b[0mplt\u001b[0m\u001b[0;34m.\u001b[0m\u001b[0mimread\u001b[0m\u001b[0;34m(\u001b[0m\u001b[0mfname\u001b[0m\u001b[0;34m)\u001b[0m\u001b[0;34m\u001b[0m\u001b[0;34m\u001b[0m\u001b[0m\n",
      "\u001b[0m\u001b[0;32m      7 \u001b[0;31m    \u001b[0;32mreturn\u001b[0m \u001b[0mdata\u001b[0m\u001b[0;34m\u001b[0m\u001b[0;34m\u001b[0m\u001b[0m\n",
      "\u001b[0m\n",
      "ipdb> p fnmae\n",
      "*** NameError: name 'fnmae' is not defined\n",
      "ipdb> p fname\n",
      "*** NameError: name 'fname' is not defined\n",
      "ipdb> u\n",
      "> \u001b[0;32m<ipython-input-34-9612dcae36af>\u001b[0m(1)\u001b[0;36m<module>\u001b[0;34m()\u001b[0m\n",
      "\u001b[0;32m----> 1 \u001b[0;31m\u001b[0mbw\u001b[0m \u001b[0;34m=\u001b[0m \u001b[0mfetch_blackwhite\u001b[0m\u001b[0;34m(\u001b[0m\u001b[0;34m)\u001b[0m\u001b[0;34m\u001b[0m\u001b[0;34m\u001b[0m\u001b[0m\n",
      "\u001b[0m\n",
      "ipdb> d\n",
      "> \u001b[0;32m<ipython-input-24-420f34e378d3>\u001b[0m(5)\u001b[0;36mfetch_blackwhite\u001b[0;34m()\u001b[0m\n",
      "\u001b[0;32m      3 \u001b[0;31m    \u001b[0mLoad\u001b[0m \u001b[0mthe\u001b[0m \u001b[0mstar\u001b[0m\u001b[0;34m.\u001b[0m\u001b[0mpng\u001b[0m \u001b[0msample\u001b[0m \u001b[0mdata\u001b[0m \u001b[0;32mas\u001b[0m \u001b[0ma\u001b[0m \u001b[0mnumpy\u001b[0m \u001b[0marray\u001b[0m\u001b[0;34m.\u001b[0m\u001b[0;34m\u001b[0m\u001b[0;34m\u001b[0m\u001b[0m\n",
      "\u001b[0m\u001b[0;32m      4 \u001b[0;31m    \"\"\"\n",
      "\u001b[0m\u001b[0;32m----> 5 \u001b[0;31m    \u001b[0mfname\u001b[0m \u001b[0;34m=\u001b[0m \u001b[0mGOODBOY\u001b[0m\u001b[0;34m.\u001b[0m\u001b[0mfetch\u001b[0m\u001b[0;34m(\u001b[0m\u001b[0;34m'demos/blackwhite.png'\u001b[0m\u001b[0;34m)\u001b[0m\u001b[0;34m\u001b[0m\u001b[0;34m\u001b[0m\u001b[0m\n",
      "\u001b[0m\u001b[0;32m      6 \u001b[0;31m    \u001b[0mdata\u001b[0m \u001b[0;34m=\u001b[0m \u001b[0mplt\u001b[0m\u001b[0;34m.\u001b[0m\u001b[0mimread\u001b[0m\u001b[0;34m(\u001b[0m\u001b[0mfname\u001b[0m\u001b[0;34m)\u001b[0m\u001b[0;34m\u001b[0m\u001b[0;34m\u001b[0m\u001b[0m\n",
      "\u001b[0m\u001b[0;32m      7 \u001b[0;31m    \u001b[0;32mreturn\u001b[0m \u001b[0mdata\u001b[0m\u001b[0;34m\u001b[0m\u001b[0;34m\u001b[0m\u001b[0m\n",
      "\u001b[0m\n",
      "ipdb> \n",
      "> \u001b[0;32m/home/frank/anaconda3/lib/python3.7/site-packages/pooch/core.py\u001b[0m(579)\u001b[0;36mfetch\u001b[0;34m()\u001b[0m\n",
      "\u001b[0;32m    577 \u001b[0;31m                \u001b[0mdownloader\u001b[0m \u001b[0;34m=\u001b[0m \u001b[0mchoose_downloader\u001b[0m\u001b[0;34m(\u001b[0m\u001b[0murl\u001b[0m\u001b[0;34m)\u001b[0m\u001b[0;34m\u001b[0m\u001b[0;34m\u001b[0m\u001b[0m\n",
      "\u001b[0m\u001b[0;32m    578 \u001b[0;31m\u001b[0;34m\u001b[0m\u001b[0m\n",
      "\u001b[0m\u001b[0;32m--> 579 \u001b[0;31m            \u001b[0mstream_download\u001b[0m\u001b[0;34m(\u001b[0m\u001b[0murl\u001b[0m\u001b[0;34m,\u001b[0m \u001b[0mfull_path\u001b[0m\u001b[0;34m,\u001b[0m \u001b[0mknown_hash\u001b[0m\u001b[0;34m,\u001b[0m \u001b[0mdownloader\u001b[0m\u001b[0;34m,\u001b[0m \u001b[0mpooch\u001b[0m\u001b[0;34m=\u001b[0m\u001b[0mself\u001b[0m\u001b[0;34m)\u001b[0m\u001b[0;34m\u001b[0m\u001b[0;34m\u001b[0m\u001b[0m\n",
      "\u001b[0m\u001b[0;32m    580 \u001b[0;31m\u001b[0;34m\u001b[0m\u001b[0m\n",
      "\u001b[0m\u001b[0;32m    581 \u001b[0;31m        \u001b[0;32mif\u001b[0m \u001b[0mprocessor\u001b[0m \u001b[0;32mis\u001b[0m \u001b[0;32mnot\u001b[0m \u001b[0;32mNone\u001b[0m\u001b[0;34m:\u001b[0m\u001b[0;34m\u001b[0m\u001b[0;34m\u001b[0m\u001b[0m\n",
      "\u001b[0m\n",
      "ipdb> \n",
      "> \u001b[0;32m/home/frank/anaconda3/lib/python3.7/site-packages/pooch/core.py\u001b[0m(748)\u001b[0;36mstream_download\u001b[0;34m()\u001b[0m\n",
      "\u001b[0;32m    745 \u001b[0;31m    \u001b[0;31m# before overwriting the original.\u001b[0m\u001b[0;34m\u001b[0m\u001b[0;34m\u001b[0m\u001b[0;34m\u001b[0m\u001b[0m\n",
      "\u001b[0m\u001b[0;32m    746 \u001b[0;31m    \u001b[0;32mwith\u001b[0m \u001b[0mtemporary_file\u001b[0m\u001b[0;34m(\u001b[0m\u001b[0mpath\u001b[0m\u001b[0;34m=\u001b[0m\u001b[0mstr\u001b[0m\u001b[0;34m(\u001b[0m\u001b[0mfname\u001b[0m\u001b[0;34m.\u001b[0m\u001b[0mparent\u001b[0m\u001b[0;34m)\u001b[0m\u001b[0;34m)\u001b[0m \u001b[0;32mas\u001b[0m \u001b[0mtmp\u001b[0m\u001b[0;34m:\u001b[0m\u001b[0;34m\u001b[0m\u001b[0;34m\u001b[0m\u001b[0m\n",
      "\u001b[0m\u001b[0;32m    747 \u001b[0;31m        \u001b[0mdownloader\u001b[0m\u001b[0;34m(\u001b[0m\u001b[0murl\u001b[0m\u001b[0;34m,\u001b[0m \u001b[0mtmp\u001b[0m\u001b[0;34m,\u001b[0m \u001b[0mpooch\u001b[0m\u001b[0;34m)\u001b[0m\u001b[0;34m\u001b[0m\u001b[0;34m\u001b[0m\u001b[0m\n",
      "\u001b[0m\u001b[0;32m--> 748 \u001b[0;31m        \u001b[0mhash_matches\u001b[0m\u001b[0;34m(\u001b[0m\u001b[0mtmp\u001b[0m\u001b[0;34m,\u001b[0m \u001b[0mknown_hash\u001b[0m\u001b[0;34m,\u001b[0m \u001b[0mstrict\u001b[0m\u001b[0;34m=\u001b[0m\u001b[0;32mTrue\u001b[0m\u001b[0;34m,\u001b[0m \u001b[0msource\u001b[0m\u001b[0;34m=\u001b[0m\u001b[0mstr\u001b[0m\u001b[0;34m(\u001b[0m\u001b[0mfname\u001b[0m\u001b[0;34m.\u001b[0m\u001b[0mname\u001b[0m\u001b[0;34m)\u001b[0m\u001b[0;34m)\u001b[0m\u001b[0;34m\u001b[0m\u001b[0;34m\u001b[0m\u001b[0m\n",
      "\u001b[0m\u001b[0;32m    749 \u001b[0;31m        \u001b[0mshutil\u001b[0m\u001b[0;34m.\u001b[0m\u001b[0mmove\u001b[0m\u001b[0;34m(\u001b[0m\u001b[0mtmp\u001b[0m\u001b[0;34m,\u001b[0m \u001b[0mstr\u001b[0m\u001b[0;34m(\u001b[0m\u001b[0mfname\u001b[0m\u001b[0;34m)\u001b[0m\u001b[0;34m)\u001b[0m\u001b[0;34m\u001b[0m\u001b[0;34m\u001b[0m\u001b[0m\n",
      "\u001b[0m\n",
      "ipdb> p fname\n",
      "PosixPath('/home/frank/.cache/inktime/demos/blackwhite.png')\n",
      "ipdb> p source\n",
      "*** NameError: name 'source' is not defined\n",
      "ipdb> p fname.name\n",
      "'blackwhite.png'\n",
      "ipdb> quit\n"
     ]
    }
   ],
   "source": [
    "%debug"
   ]
  },
  {
   "cell_type": "code",
   "execution_count": null,
   "metadata": {},
   "outputs": [
    {
     "name": "stdout",
     "output_type": "stream",
     "text": [
      "> \u001b[0;32m/home/frank/anaconda3/lib/python3.7/site-packages/pooch/utils.py\u001b[0m(380)\u001b[0;36mhash_matches\u001b[0;34m()\u001b[0m\n",
      "\u001b[0;32m    378 \u001b[0;31m            \u001b[0;34m\" The downloaded file may have been corrupted or\"\u001b[0m\u001b[0;34m\u001b[0m\u001b[0;34m\u001b[0m\u001b[0m\n",
      "\u001b[0m\u001b[0;32m    379 \u001b[0;31m            \" the known hash may be outdated.\".format(\n",
      "\u001b[0m\u001b[0;32m--> 380 \u001b[0;31m                \u001b[0malgorithm\u001b[0m\u001b[0;34m.\u001b[0m\u001b[0mupper\u001b[0m\u001b[0;34m(\u001b[0m\u001b[0;34m)\u001b[0m\u001b[0;34m,\u001b[0m \u001b[0msource\u001b[0m\u001b[0;34m,\u001b[0m \u001b[0mknown_hash\u001b[0m\u001b[0;34m,\u001b[0m \u001b[0mnew_hash\u001b[0m\u001b[0;34m,\u001b[0m\u001b[0;34m\u001b[0m\u001b[0;34m\u001b[0m\u001b[0m\n",
      "\u001b[0m\u001b[0;32m    381 \u001b[0;31m            )\n",
      "\u001b[0m\u001b[0;32m    382 \u001b[0;31m        )\n",
      "\u001b[0m\n",
      "ipdb> known_hash\n",
      "'01be1b33d5a8af2545057a932fdbd499b6853c519ca6c3ada23403c45719f8b3'\n",
      "ipdb> new_hash\n",
      "'f48342fb2ab6d6b560c8a70432c760fa6ca42942ad9a54c45a6294c37c4007cb'\n",
      "ipdb> quit\n"
     ]
    }
   ],
   "source": [
    "%debug"
   ]
  },
  {
   "cell_type": "code",
   "execution_count": null,
   "metadata": {},
   "outputs": [],
   "source": [
    "def fetch_star():\n",
    "    \"\"\"\n",
    "    Load the star.png sample data as a numpy array.\n",
    "    \"\"\"\n",
    "    fname = GOODBOY.fetch('demos/star.png')\n",
    "    data = plt.imread(fname)\n",
    "    return data"
   ]
  },
  {
   "cell_type": "code",
   "execution_count": null,
   "metadata": {},
   "outputs": [],
   "source": []
  },
  {
   "cell_type": "code",
   "execution_count": null,
   "metadata": {},
   "outputs": [
    {
     "name": "stderr",
     "output_type": "stream",
     "text": [
      "Downloading file 'demos/star.png' from 'https://github.com/fligt/inktime/tree/master/data/demos/star.png' to '/home/frank/.cache/inktime'.\n"
     ]
    },
    {
     "ename": "ValueError",
     "evalue": "SHA256 hash of downloaded file (star.png) does not match the known hash: expected c5429a45af92b56e0d913e3a4e1f3d61cbe4d94a34caa819762a28344dd06dc5 but got 4cf9852d2a6d904be8ea6aaf819b50400db938fec9e921f645b42f03faf16aaf. Deleted download for safety. The downloaded file may have been corrupted or the known hash may be outdated.",
     "output_type": "error",
     "traceback": [
      "\u001b[0;31m---------------------------------------------------------------------------\u001b[0m",
      "\u001b[0;31mValueError\u001b[0m                                Traceback (most recent call last)",
      "\u001b[0;32m<ipython-input-31-8f31ea0abbf2>\u001b[0m in \u001b[0;36m<module>\u001b[0;34m\u001b[0m\n\u001b[0;32m----> 1\u001b[0;31m \u001b[0mstar\u001b[0m \u001b[0;34m=\u001b[0m \u001b[0mfetch_star\u001b[0m\u001b[0;34m(\u001b[0m\u001b[0;34m)\u001b[0m\u001b[0;34m\u001b[0m\u001b[0;34m\u001b[0m\u001b[0m\n\u001b[0m",
      "\u001b[0;32m<ipython-input-19-eeca9666593a>\u001b[0m in \u001b[0;36mfetch_star\u001b[0;34m()\u001b[0m\n\u001b[1;32m      3\u001b[0m     \u001b[0mLoad\u001b[0m \u001b[0mthe\u001b[0m \u001b[0mstar\u001b[0m\u001b[0;34m.\u001b[0m\u001b[0mpng\u001b[0m \u001b[0msample\u001b[0m \u001b[0mdata\u001b[0m \u001b[0;32mas\u001b[0m \u001b[0ma\u001b[0m \u001b[0mnumpy\u001b[0m \u001b[0marray\u001b[0m\u001b[0;34m.\u001b[0m\u001b[0;34m\u001b[0m\u001b[0;34m\u001b[0m\u001b[0m\n\u001b[1;32m      4\u001b[0m     \"\"\"\n\u001b[0;32m----> 5\u001b[0;31m     \u001b[0mfname\u001b[0m \u001b[0;34m=\u001b[0m \u001b[0mGOODBOY\u001b[0m\u001b[0;34m.\u001b[0m\u001b[0mfetch\u001b[0m\u001b[0;34m(\u001b[0m\u001b[0;34m'demos/star.png'\u001b[0m\u001b[0;34m)\u001b[0m\u001b[0;34m\u001b[0m\u001b[0;34m\u001b[0m\u001b[0m\n\u001b[0m\u001b[1;32m      6\u001b[0m     \u001b[0mdata\u001b[0m \u001b[0;34m=\u001b[0m \u001b[0mplt\u001b[0m\u001b[0;34m.\u001b[0m\u001b[0mimread\u001b[0m\u001b[0;34m(\u001b[0m\u001b[0mfname\u001b[0m\u001b[0;34m)\u001b[0m\u001b[0;34m\u001b[0m\u001b[0;34m\u001b[0m\u001b[0m\n\u001b[1;32m      7\u001b[0m     \u001b[0;32mreturn\u001b[0m \u001b[0mdata\u001b[0m\u001b[0;34m\u001b[0m\u001b[0;34m\u001b[0m\u001b[0m\n",
      "\u001b[0;32m~/anaconda3/lib/python3.7/site-packages/pooch/core.py\u001b[0m in \u001b[0;36mfetch\u001b[0;34m(self, fname, processor, downloader)\u001b[0m\n\u001b[1;32m    577\u001b[0m                 \u001b[0mdownloader\u001b[0m \u001b[0;34m=\u001b[0m \u001b[0mchoose_downloader\u001b[0m\u001b[0;34m(\u001b[0m\u001b[0murl\u001b[0m\u001b[0;34m)\u001b[0m\u001b[0;34m\u001b[0m\u001b[0;34m\u001b[0m\u001b[0m\n\u001b[1;32m    578\u001b[0m \u001b[0;34m\u001b[0m\u001b[0m\n\u001b[0;32m--> 579\u001b[0;31m             \u001b[0mstream_download\u001b[0m\u001b[0;34m(\u001b[0m\u001b[0murl\u001b[0m\u001b[0;34m,\u001b[0m \u001b[0mfull_path\u001b[0m\u001b[0;34m,\u001b[0m \u001b[0mknown_hash\u001b[0m\u001b[0;34m,\u001b[0m \u001b[0mdownloader\u001b[0m\u001b[0;34m,\u001b[0m \u001b[0mpooch\u001b[0m\u001b[0;34m=\u001b[0m\u001b[0mself\u001b[0m\u001b[0;34m)\u001b[0m\u001b[0;34m\u001b[0m\u001b[0;34m\u001b[0m\u001b[0m\n\u001b[0m\u001b[1;32m    580\u001b[0m \u001b[0;34m\u001b[0m\u001b[0m\n\u001b[1;32m    581\u001b[0m         \u001b[0;32mif\u001b[0m \u001b[0mprocessor\u001b[0m \u001b[0;32mis\u001b[0m \u001b[0;32mnot\u001b[0m \u001b[0;32mNone\u001b[0m\u001b[0;34m:\u001b[0m\u001b[0;34m\u001b[0m\u001b[0;34m\u001b[0m\u001b[0m\n",
      "\u001b[0;32m~/anaconda3/lib/python3.7/site-packages/pooch/core.py\u001b[0m in \u001b[0;36mstream_download\u001b[0;34m(url, fname, known_hash, downloader, pooch)\u001b[0m\n\u001b[1;32m    746\u001b[0m     \u001b[0;32mwith\u001b[0m \u001b[0mtemporary_file\u001b[0m\u001b[0;34m(\u001b[0m\u001b[0mpath\u001b[0m\u001b[0;34m=\u001b[0m\u001b[0mstr\u001b[0m\u001b[0;34m(\u001b[0m\u001b[0mfname\u001b[0m\u001b[0;34m.\u001b[0m\u001b[0mparent\u001b[0m\u001b[0;34m)\u001b[0m\u001b[0;34m)\u001b[0m \u001b[0;32mas\u001b[0m \u001b[0mtmp\u001b[0m\u001b[0;34m:\u001b[0m\u001b[0;34m\u001b[0m\u001b[0;34m\u001b[0m\u001b[0m\n\u001b[1;32m    747\u001b[0m         \u001b[0mdownloader\u001b[0m\u001b[0;34m(\u001b[0m\u001b[0murl\u001b[0m\u001b[0;34m,\u001b[0m \u001b[0mtmp\u001b[0m\u001b[0;34m,\u001b[0m \u001b[0mpooch\u001b[0m\u001b[0;34m)\u001b[0m\u001b[0;34m\u001b[0m\u001b[0;34m\u001b[0m\u001b[0m\n\u001b[0;32m--> 748\u001b[0;31m         \u001b[0mhash_matches\u001b[0m\u001b[0;34m(\u001b[0m\u001b[0mtmp\u001b[0m\u001b[0;34m,\u001b[0m \u001b[0mknown_hash\u001b[0m\u001b[0;34m,\u001b[0m \u001b[0mstrict\u001b[0m\u001b[0;34m=\u001b[0m\u001b[0;32mTrue\u001b[0m\u001b[0;34m,\u001b[0m \u001b[0msource\u001b[0m\u001b[0;34m=\u001b[0m\u001b[0mstr\u001b[0m\u001b[0;34m(\u001b[0m\u001b[0mfname\u001b[0m\u001b[0;34m.\u001b[0m\u001b[0mname\u001b[0m\u001b[0;34m)\u001b[0m\u001b[0;34m)\u001b[0m\u001b[0;34m\u001b[0m\u001b[0;34m\u001b[0m\u001b[0m\n\u001b[0m\u001b[1;32m    749\u001b[0m         \u001b[0mshutil\u001b[0m\u001b[0;34m.\u001b[0m\u001b[0mmove\u001b[0m\u001b[0;34m(\u001b[0m\u001b[0mtmp\u001b[0m\u001b[0;34m,\u001b[0m \u001b[0mstr\u001b[0m\u001b[0;34m(\u001b[0m\u001b[0mfname\u001b[0m\u001b[0;34m)\u001b[0m\u001b[0;34m)\u001b[0m\u001b[0;34m\u001b[0m\u001b[0;34m\u001b[0m\u001b[0m\n",
      "\u001b[0;32m~/anaconda3/lib/python3.7/site-packages/pooch/utils.py\u001b[0m in \u001b[0;36mhash_matches\u001b[0;34m(fname, known_hash, strict, source)\u001b[0m\n\u001b[1;32m    378\u001b[0m             \u001b[0;34m\" The downloaded file may have been corrupted or\"\u001b[0m\u001b[0;34m\u001b[0m\u001b[0;34m\u001b[0m\u001b[0m\n\u001b[1;32m    379\u001b[0m             \" the known hash may be outdated.\".format(\n\u001b[0;32m--> 380\u001b[0;31m                 \u001b[0malgorithm\u001b[0m\u001b[0;34m.\u001b[0m\u001b[0mupper\u001b[0m\u001b[0;34m(\u001b[0m\u001b[0;34m)\u001b[0m\u001b[0;34m,\u001b[0m \u001b[0msource\u001b[0m\u001b[0;34m,\u001b[0m \u001b[0mknown_hash\u001b[0m\u001b[0;34m,\u001b[0m \u001b[0mnew_hash\u001b[0m\u001b[0;34m,\u001b[0m\u001b[0;34m\u001b[0m\u001b[0;34m\u001b[0m\u001b[0m\n\u001b[0m\u001b[1;32m    381\u001b[0m             )\n\u001b[1;32m    382\u001b[0m         )\n",
      "\u001b[0;31mValueError\u001b[0m: SHA256 hash of downloaded file (star.png) does not match the known hash: expected c5429a45af92b56e0d913e3a4e1f3d61cbe4d94a34caa819762a28344dd06dc5 but got 4cf9852d2a6d904be8ea6aaf819b50400db938fec9e921f645b42f03faf16aaf. Deleted download for safety. The downloaded file may have been corrupted or the known hash may be outdated."
     ]
    }
   ],
   "source": [
    "star = fetch_star()"
   ]
  },
  {
   "cell_type": "code",
   "execution_count": null,
   "metadata": {},
   "outputs": [
    {
     "name": "stdout",
     "output_type": "stream",
     "text": [
      "00_rgbkm.ipynb\tdocs  images  index.ipynb\r\n"
     ]
    }
   ],
   "source": [
    "!ls"
   ]
  },
  {
   "cell_type": "code",
   "execution_count": null,
   "metadata": {},
   "outputs": [],
   "source": [
    "pooch.utils??"
   ]
  },
  {
   "cell_type": "code",
   "execution_count": null,
   "metadata": {},
   "outputs": [
    {
     "data": {
      "text/plain": [
       "<_io.BufferedReader name='/mnt/datadisk/Work/Projecten/DoRe/code/inktime/inktime/registry.txt'>"
      ]
     },
     "execution_count": null,
     "metadata": {},
     "output_type": "execute_result"
    }
   ],
   "source": [
    "pooch.load() registry_file"
   ]
  },
  {
   "cell_type": "code",
   "execution_count": null,
   "metadata": {},
   "outputs": [],
   "source": [
    "#reflectance()"
   ]
  },
  {
   "cell_type": "markdown",
   "metadata": {},
   "source": [
    "## API "
   ]
  },
  {
   "cell_type": "code",
   "execution_count": null,
   "metadata": {},
   "outputs": [],
   "source": [
    "#export \n",
    "import numpy as np \n",
    "import matplotlib.pyplot as plt\n",
    "import matplotlib.cm as cm\n",
    "#import plotutils as plu\n",
    "import cv2 \n",
    "#import myutils as mu \n",
    "\n",
    "import scipy.optimize as optimize \n",
    "\n",
    "\n",
    "def reflectance(K, S, D, Rg):\n",
    "    '''Calculates reflectance for single colorant Kubelka-Munk model. \n",
    "    \n",
    "    Based on Nobbs (1997) formulation with modified Saunderson expression for infinite reflectance.  \n",
    "    Function works for single channel, 3 RGB channels, and spectral data/images with muliple wavelength channels. \n",
    "    \n",
    "    \n",
    "    Parameters\n",
    "    ----------\n",
    "    K: tuple-like (n channels)\n",
    "        Colorant absorption coefficients for wavelength or RGB channels\n",
    "    S: tuple-like (n channels)\n",
    "        Colorant scattering coefficients for wavelength or RGB channels\n",
    "    D: array ( height x width)\n",
    "        Colorant thickness image \n",
    "    Rg: array (height x width x n) or rgb tuple with shape (3,)\n",
    "        Background reflectance image or background color  \n",
    "         \n",
    "    Returns: \n",
    "    --------\n",
    "    refl: array (height x width x n) \n",
    "        n-channel reflectance image\n",
    "        \n",
    "    '''\n",
    "    \n",
    "    Rg = np.array(Rg)\n",
    "    shape = Rg.shape \n",
    "    \n",
    "    \n",
    "    # create uniform background image if Rg is rgb tuple\n",
    "    \n",
    "    if len(shape) == 1: # understood as rgb tuple \n",
    "        \n",
    "        h, w = D.shape \n",
    "        \n",
    "        Rg_img = np.ones([h, w, 3])\n",
    "        Rg_img[:,:] = Rg  \n",
    "        Rg = Rg_img \n",
    "    \n",
    "        shape = Rg.shape  \n",
    "        \n",
    "        #print('created uniform rgb background image Rg with shape: {}'.format(shape))\n",
    "    \n",
    "    \n",
    "    n_channels = shape[-1]\n",
    "    \n",
    "    K = np.array(K).reshape(1, n_channels)\n",
    "    S = np.array(S).reshape(1, n_channels)\n",
    "    \n",
    "    D = np.array(D).reshape(-1, 1)\n",
    "    Rg = Rg.reshape(-1, n_channels)\n",
    "    \n",
    "    # need to return infinity for K =< 0 or S < 0 in optimization code \n",
    "    #pos_S = S >= 0 \n",
    "    #pos_K = K > 0 # also non-zero\n",
    "    #ok = pos_S & pos_K\n",
    "    \n",
    "    #Rinf = np.zeros([1, n_channels]) \n",
    "    Rinf = (S/K) / ((S/K) + 1 + np.sqrt(1 + 2 * (S/K)))\n",
    "    #Rinf[ok] = (S[ok]/K[ok]) / ((S[ok]/K[ok]) + 1 + np.sqrt(1 + 2 * (S[ok]/K[ok])))\n",
    "    #Rinf[~ok] = np.infty\n",
    "    \n",
    "    Z = D * np.sqrt(K * (K + 2 * S))\n",
    "    \n",
    "    Z = np.clip(Z, a_min=0, a_max=50)\n",
    "    \n",
    "    beta = np.exp(2 * Z) - 1\n",
    "    alpha = (1 - Rinf**2) / (1 - Rg * Rinf)\n",
    "    \n",
    "    refl = (alpha * Rg + beta * Rinf) / (alpha + beta)\n",
    "    refl = refl.reshape(shape)\n",
    "    \n",
    "    return refl "
   ]
  },
  {
   "cell_type": "code",
   "execution_count": null,
   "metadata": {},
   "outputs": [],
   "source": []
  },
  {
   "cell_type": "code",
   "execution_count": null,
   "metadata": {},
   "outputs": [],
   "source": [
    "def get_optical_density(img, bg_color, blf=True): \n",
    "    '''Generates ideal ink optical density model for *img* with background color *bg_color*.'''\n",
    "    \n",
    "    # generate uniform background\n",
    "    \n",
    "    paper_color_img = np.ones_like(img) \n",
    "    paper_color_img[:,:] = bg_color\n",
    "    \n",
    "    # not sure if this is needed \n",
    "    \n",
    "    if blf:\n",
    "        img = cv2.bilateralFilter(img, 10, 0.1, 120) # got these params from 2018-11-16 notebook  \n",
    "        img_blf = img\n",
    "\n",
    "    rgb = img.transpose(2, 0, 1)\n",
    "    r, g, b = rgb \n",
    "    \n",
    "    img_od = mu.normalize_image(-np.log(np.clip(img/paper_color_img, a_min=0, a_max=1)))\n",
    "    \n",
    "    return img_od\n",
    "\n",
    "\n",
    "class PaintDistribution: \n",
    "    '''Single colorant layer model'''\n",
    "    \n",
    "    def __init__(self, D, Rg, R_meas): \n",
    "        '''Initializes statigraphic model with thickness array *D*, background array *Rg* and measured array *R_meas*. '''\n",
    "        \n",
    "        self.D = D\n",
    "        self.Rg = Rg \n",
    "        self.R_meas = R_meas \n",
    "        \n",
    "        D_max = self.D.max()\n",
    "        \n",
    "        if D_max > 10: \n",
    "            print('Warning: found maxium thickness {} larger then 10. Might cause numerical problems.'.format(D_max))\n",
    "        \n",
    "    # better .residuals ??     \n",
    "        \n",
    "    def residuals(self, KS): \n",
    "        '''Returns residuals vector between measured and calculated for *KS*  '''\n",
    "        \n",
    "        n_channels = int(len(KS) / 2) \n",
    "\n",
    "        K, S = KS[0:n_channels], KS[n_channels: 2*n_channels] # split vector \n",
    "\n",
    "        img_calc = reflectance(K, S, self.D, self.Rg)\n",
    "\n",
    "        img_diff = self.R_meas - img_calc \n",
    "        \n",
    "        is_non_zero_thickness = self.D > 0 \n",
    "\n",
    "        res = img_diff[is_non_zero_thickness].flatten()\n",
    "        res = res**2 # check quadratic \n",
    "        \n",
    "        return res \n",
    "    \n",
    "    def fit_KS(self): \n",
    "        '''Non-linear fit of K and S for stratigraphic model'''\n",
    "        \n",
    "        n_channels = self.Rg.shape[-1] \n",
    "        \n",
    "        KS_start = np.ones(2 * n_channels) \n",
    "        \n",
    "        KS_min = np.ones(2 * n_channels) * 10e-8 # not sure if this avoids numerical problems \n",
    "        KS_max = np.ones(2 * n_channels) * 100 # same \n",
    "        \n",
    "        bounds = [KS_min, KS_max]\n",
    "        \n",
    "        fit = optimize.least_squares(self.residuals, KS_start, verbose=1, bounds=bounds, xtol=1e-10, ftol=1e-10, gtol=1e-10) # self is callable (function object)\n",
    "        \n",
    "        self.K_fit, self.S_fit = fit.x[0:n_channels], fit.x[n_channels:2*n_channels]\n",
    "        \n",
    "        self.R_fit = reflectance(self.K_fit, self.S_fit, self.D, self.Rg) # for convenience\n",
    "        \n",
    "        return self.K_fit, self.S_fit\n",
    "    \n",
    "\n",
    "    \n",
    "class Ramp_model: \n",
    "    \n",
    "    \n",
    "    def __init__(self, material, rgb_bg, rgb_1, rgb_2, thickness_1, thickness_2): \n",
    "    \n",
    "        '''Fits K and S to a simple two patch ramp model '''\n",
    "        \n",
    "        # should extend to n-patches list but not now \n",
    "\n",
    "        self.material = material \n",
    "        \n",
    "        self.Rg = np.ones([3, 4, 3], dtype=float) \n",
    "        self.Rg[:,:] = rgb_bg\n",
    "\n",
    "        self.R_meas = self.Rg.copy()\n",
    "        self.R_meas[1, 1:3] = np.array([rgb_1, rgb_2]) \n",
    "\n",
    "        self.D = np.zeros([3, 4]) \n",
    "        self.D[1, 1:3] = [thickness_1, thickness_2] \n",
    "\n",
    "        pdist = PaintDistribution(self.D, self.Rg, self.R_meas)\n",
    "\n",
    "        self.K_fit, self.S_fit = pdist.fit_KS()\n",
    "\n",
    "        self.rendering = reflectance(self.K_fit, self.S_fit, self.D, self.Rg)\n",
    "\n",
    "        print('Created 3x4 pixel ramp model object for: \"{}\"'.format(self.material))\n",
    "\n",
    "        \n",
    "\n",
    "  "
   ]
  },
  {
   "cell_type": "code",
   "execution_count": null,
   "metadata": {},
   "outputs": [],
   "source": [
    "K_hansa = np.array([0.06, 0.21, 1.78]) # Hansa yellow RGB KM parameters according to Curtis (1997)\n",
    "S_hansa = np.array([0.50, 0.88, 0.009])\n",
    "\n",
    "\n",
    "Rg_black_white = plt.imread('/home/frank/Work/ILLs/rgbkm-modeling-blackwhite1000.png')[:,:,0:3]\n",
    "R_meas_hansa = plt.imread('/home/frank/Work/ILLs/rgbkm-modeling-hansa-star.png')[:,:,0:3]\n",
    "# pff dangerous stupid quick fix multiplier \n",
    "D_hansa = 5 * plt.imread('/home/frank/Work/ILLs/rgbkm-modeling-star1000.png')[:,:,0] \n",
    "      \n",
    "        \n",
    "        "
   ]
  }
 ],
 "metadata": {
  "kernelspec": {
   "display_name": "Python 3",
   "language": "python",
   "name": "python3"
  }
 },
 "nbformat": 4,
 "nbformat_minor": 2
}
