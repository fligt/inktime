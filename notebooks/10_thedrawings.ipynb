{
 "cells": [
  {
   "cell_type": "markdown",
   "metadata": {},
   "source": [
    "# Rembrandt drawings in Rijksmuseum collection "
   ]
  },
  {
   "cell_type": "markdown",
   "metadata": {},
   "source": [
    "*An overview of the Rijksmuseum Rembrandt drawings.*"
   ]
  },
  {
   "cell_type": "markdown",
   "metadata": {},
   "source": [
    "## Overview "
   ]
  },
  {
   "cell_type": "markdown",
   "metadata": {},
   "source": [
    "*Need table here*"
   ]
  },
  {
   "cell_type": "markdown",
   "metadata": {},
   "source": [
    "## CORS+dzi revisited"
   ]
  },
  {
   "cell_type": "markdown",
   "metadata": {},
   "source": [
    "Need to see if CORS is working now. "
   ]
  },
  {
   "cell_type": "markdown",
   "metadata": {},
   "source": [
    " <div id=\"openseadragon1_dzi\" style=\"width: 800px; height: 500px; background-color: snow\"></div> \n",
    "\n",
    "<script src=\"https://cdnjs.cloudflare.com/ajax/libs/openseadragon/2.4.2/openseadragon.min.js\" \n",
    "        integrity=\"sha512-qvQYH6mPuE46uFcWLI8BdGaJpB5taX4lltbSIw5GF4iODh2xIgyz5ii1WpuzPFUknHCps0mi4mFGR44bjdZlZg==\" \n",
    "        crossorigin=\"anonymous\">\n",
    "</script>\n",
    "\n",
    "<script type=\"text/javascript\">\n",
    "var viewer = OpenSeadragon({\n",
    "    id: \"openseadragon1_dzi\",\n",
    "    prefixUrl: \"https://cdnjs.cloudflare.com/ajax/libs/openseadragon/2.4.2/images/\", \n",
    "    tileSources: [\n",
    "    \"https://f002.backblazeb2.com/file/dore-data/deepzoom/dzp_RP-T-1930-22_highres/RP-T-1930-22_highres.dzi\", \n",
    "    \"https://f002.backblazeb2.com/file/dore-data/deepzoom/dzp_RP-T-1930-22_highres/RP-T-1930-22_highres.dzi\"], \n",
    "    sequenceMode: true,\n",
    "    preserveViewport: true,\n",
    "    showReferenceStrip: true,\n",
    "    showNavigator: true\n",
    " });\n",
    "</script>"
   ]
  },
  {
   "cell_type": "markdown",
   "metadata": {},
   "source": [
    "## Deepzoom single image test"
   ]
  },
  {
   "cell_type": "markdown",
   "metadata": {},
   "source": [
    "RP-T-1930-22_highres"
   ]
  },
  {
   "cell_type": "markdown",
   "metadata": {},
   "source": [
    "<script src=\"https://cdnjs.cloudflare.com/ajax/libs/openseadragon/2.4.2/openseadragon.min.js\" \n",
    "        integrity=\"sha512-qvQYH6mPuE46uFcWLI8BdGaJpB5taX4lltbSIw5GF4iODh2xIgyz5ii1WpuzPFUknHCps0mi4mFGR44bjdZlZg==\" \n",
    "        crossorigin=\"anonymous\">\n",
    "</script>\n",
    "\n",
    "<div id=\"RP-T-1930-22_highres\" style=\"width: 800px; height: 400px; background-color: snow\"></div>\n",
    "\n",
    "<script src=\"https://f002.backblazeb2.com/file/dore-data/deepzoom/dzp_RP-T-1930-22_highres/RP-T-1930-22_highres.js?callback=OpenSeadragon\"></script>\n",
    "                                                                                                                   "
   ]
  },
  {
   "cell_type": "markdown",
   "metadata": {},
   "source": [
    "RP-T-1930-9_Trans-Recto\n",
    "\n",
    "<script src=\"https://cdnjs.cloudflare.com/ajax/libs/openseadragon/2.4.2/openseadragon.min.js\" \n",
    "        integrity=\"sha512-qvQYH6mPuE46uFcWLI8BdGaJpB5taX4lltbSIw5GF4iODh2xIgyz5ii1WpuzPFUknHCps0mi4mFGR44bjdZlZg==\" \n",
    "        crossorigin=\"anonymous\">\n",
    "</script>\n",
    "\n",
    "<div id=\"RP-T-1930-9_Trans-Recto\" style=\"width: 800px; height: 400px; background-color: snow\"></div>\n",
    "\n",
    "<script src=\"https://f002.backblazeb2.com/file/dore-data/deepzoom/dzp_RP-T-1930-9_Trans-Recto/RP-T-1930-9_Trans-Recto.js?callback=OpenSeadragon\"></script>"
   ]
  },
  {
   "cell_type": "markdown",
   "metadata": {},
   "source": [
    "## Multi image test"
   ]
  },
  {
   "cell_type": "markdown",
   "metadata": {},
   "source": [
    "<script src=\"https://cdnjs.cloudflare.com/ajax/libs/openseadragon/2.4.2/openseadragon.min.js\" \n",
    "        integrity=\"sha512-qvQYH6mPuE46uFcWLI8BdGaJpB5taX4lltbSIw5GF4iODh2xIgyz5ii1WpuzPFUknHCps0mi4mFGR44bjdZlZg==\" \n",
    "        crossorigin=\"anonymous\">\n",
    "</script>\n",
    "\n",
    "<div id=\"all_test3\" style=\"width: 800px; height: 400px; background-color: snow\"></div>\n",
    "\n",
    "<script src=\"https://f002.backblazeb2.com/file/dore-data/deepzoom/viewers/all_test3.js?callback=OpenSeadragon\"></script>"
   ]
  },
  {
   "cell_type": "markdown",
   "metadata": {},
   "source": [
    "## Multi image html snippet "
   ]
  },
  {
   "cell_type": "markdown",
   "metadata": {},
   "source": [
    "<div id=\"bdc8162a\" style=\"width: 800px; height: 600px; background-color: snow\"></div>\n",
    "<script src=\"https://cdnjs.cloudflare.com/ajax/libs/openseadragon/2.4.2/openseadragon.min.js\"\n",
    "integrity=\"sha512-qvQYH6mPuE46uFcWLI8BdGaJpB5taX4lltbSIw5GF4iODh2xIgyz5ii1WpuzPFUknHCps0mi4mFGR44bjdZlZg==\"\n",
    "crossorigin=\"anonymous\">\n",
    "</script>\n",
    "<script type=\"text/javascript\">\n",
    "var viewer = OpenSeadragon({\n",
    "    id: \"bdc8162a\",\n",
    "    prefixUrl: \"https://cdnjs.cloudflare.com/ajax/libs/openseadragon/2.4.2/images/\",\n",
    "    tileSources: [{\n",
    "  \"Image\": {\n",
    "    \"xmlns\": \"http://schemas.microsoft.com/deepzoom/2008\",\n",
    "    \"Url\": \"https://f002.backblazeb2.com/file/dore-data/deepzoom/dzp_RP-T-1930-22_highres/RP-T-1930-22_highres_files/\",\n",
    "    \"Format\": \"jpeg\",\n",
    "    \"Overlap\": \"1\",\n",
    "    \"TileSize\": \"254\",\n",
    "    \"Size\": {\n",
    "      \"Height\": \"5028\",\n",
    "      \"Width\": \"4436\"\n",
    "    }\n",
    "  }\n",
    "},\n",
    "{\n",
    "  \"Image\": {\n",
    "    \"xmlns\": \"http://schemas.microsoft.com/deepzoom/2008\",\n",
    "    \"Url\": \"https://f002.backblazeb2.com/file/dore-data/deepzoom/dzp_RP-T-1930-51_highres/RP-T-1930-51_highres_files/\",\n",
    "    \"Format\": \"jpeg\",\n",
    "    \"Overlap\": \"1\",\n",
    "    \"TileSize\": \"254\",\n",
    "    \"Size\": {\n",
    "      \"Height\": \"5814\",\n",
    "      \"Width\": \"4180\"\n",
    "    }\n",
    "  }\n",
    "},\n",
    "{\n",
    "  \"Image\": {\n",
    "    \"xmlns\": \"http://schemas.microsoft.com/deepzoom/2008\",\n",
    "    \"Url\": \"https://f002.backblazeb2.com/file/dore-data/deepzoom/dzp_RP-T-1930-9_Trans-Recto/RP-T-1930-9_Trans-Recto_files/\",\n",
    "    \"Format\": \"jpeg\",\n",
    "    \"Overlap\": \"1\",\n",
    "    \"TileSize\": \"254\",\n",
    "    \"Size\": {\n",
    "      \"Height\": \"17400\",\n",
    "      \"Width\": \"23200\"\n",
    "    }\n",
    "  }\n",
    "}],\n",
    "    sequenceMode: true,\n",
    "    preserveViewport: true,\n",
    "    showReferenceStrip: true,\n",
    "    showNavigator: true\n",
    " });\n",
    "</script>"
   ]
  },
  {
   "cell_type": "markdown",
   "metadata": {},
   "source": [
    "## Callback viewer test (method)"
   ]
  },
  {
   "cell_type": "markdown",
   "metadata": {},
   "source": [
    "<script src=\"https://cdnjs.cloudflare.com/ajax/libs/openseadragon/2.4.2/openseadragon.min.js\"\n",
    "    integrity=\"sha512-qvQYH6mPuE46uFcWLI8BdGaJpB5taX4lltbSIw5GF4iODh2xIgyz5ii1WpuzPFUknHCps0mi4mFGR44bjdZlZg==\"\n",
    "    crossorigin=\"anonymous\">\n",
    "</script>\n",
    "\n",
    "<div id=\"method-test\" style=\"width: 800px; height: 400px; background-color: snow\"></div>\n",
    "\n",
    "<script src=\"https://f002.backblazeb2.com/file/dore-data/deepzoom/viewers/method-test.js?callback=OpenSeadragon\"></script>"
   ]
  },
  {
   "cell_type": "code",
   "execution_count": null,
   "metadata": {},
   "outputs": [
    {
     "data": {
      "text/plain": [
       "['RP-T-1930-22_highres', 'RP-T-1930-51_highres']"
      ]
     },
     "execution_count": null,
     "metadata": {},
     "output_type": "execute_result"
    }
   ],
   "source": [
    "#hide\n",
    "import os \n",
    "import myb2keys \n",
    "import deepzoomup \n",
    "\n",
    "os.chdir('/home/frank/Work/Projecten/DoRe/viz') \n",
    "\n",
    "application_key = myb2keys.application_key \n",
    "application_key_id = myb2keys.application_key_id \n",
    "bucket_name = myb2keys.bucket_name \n",
    "\n",
    "dz = deepzoomup.DeepZoomStore(application_key_id, application_key, bucket_name)\n",
    "\n",
    "names = dz.list_names()\n",
    "names[0:2]"
   ]
  },
  {
   "cell_type": "code",
   "execution_count": null,
   "metadata": {},
   "outputs": [
    {
     "name": "stdout",
     "output_type": "stream",
     "text": [
      "Saving: ./deepzoom/viewers/another-callbacktest.js\n",
      "upload viewers/another-callbacktest.js                                \n",
      "Paste this callback code snippet into your html:                     \n",
      "\n",
      "<script src=\"https://cdnjs.cloudflare.com/ajax/libs/openseadragon/2.4.2/openseadragon.min.js\"\n",
      "    integrity=\"sha512-qvQYH6mPuE46uFcWLI8BdGaJpB5taX4lltbSIw5GF4iODh2xIgyz5ii1WpuzPFUknHCps0mi4mFGR44bjdZlZg==\"\n",
      "    crossorigin=\"anonymous\">\n",
      "</script>\n",
      "\n",
      "<div id=\"another-callbacktest\" style=\"width: 800px; height: 400px; background-color: snow\"></div>\n",
      "\n",
      "<script src=\"https://f002.backblazeb2.com/file/dore-data/deepzoom/viewers/another-callbacktest.js?callback=OpenSeadragon\"></script>\n",
      "\n",
      "    \n"
     ]
    }
   ],
   "source": [
    "#hide\n",
    "dz.callback_viewer(names[0:2], 'another-callbacktest')"
   ]
  },
  {
   "cell_type": "markdown",
   "metadata": {},
   "source": [
    "## Another callback viewer test"
   ]
  },
  {
   "cell_type": "markdown",
   "metadata": {},
   "source": [
    "<script src=\"https://cdnjs.cloudflare.com/ajax/libs/openseadragon/2.4.2/openseadragon.min.js\"\n",
    "    integrity=\"sha512-qvQYH6mPuE46uFcWLI8BdGaJpB5taX4lltbSIw5GF4iODh2xIgyz5ii1WpuzPFUknHCps0mi4mFGR44bjdZlZg==\"\n",
    "    crossorigin=\"anonymous\">\n",
    "</script>\n",
    "\n",
    "<div id=\"another-callbacktest\" style=\"width: 800px; height: 400px; background-color: snow\"></div>\n",
    "\n",
    "<script src=\"https://f002.backblazeb2.com/file/dore-data/deepzoom/viewers/another-callbacktest.js?callback=OpenSeadragon\"></script>"
   ]
  }
 ],
 "metadata": {
  "kernelspec": {
   "display_name": "Python 3",
   "language": "python",
   "name": "python3"
  }
 },
 "nbformat": 4,
 "nbformat_minor": 2
}
