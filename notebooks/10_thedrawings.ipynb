{
 "cells": [
  {
   "cell_type": "markdown",
   "metadata": {},
   "source": [
    "# Rembrandt drawings in Rijksmuseum collection "
   ]
  },
  {
   "cell_type": "markdown",
   "metadata": {},
   "source": [
    "*An overview of the Rijksmuseum Rembrandt drawings.*"
   ]
  },
  {
   "cell_type": "markdown",
   "metadata": {},
   "source": [
    "## Overview "
   ]
  },
  {
   "cell_type": "markdown",
   "metadata": {},
   "source": [
    "*Need table here*"
   ]
  },
  {
   "cell_type": "markdown",
   "metadata": {},
   "source": [
    "## Deepzoom single image test"
   ]
  },
  {
   "cell_type": "markdown",
   "metadata": {},
   "source": [
    "<script src=\"https://cdnjs.cloudflare.com/ajax/libs/openseadragon/2.4.2/openseadragon.min.js\" \n",
    "        integrity=\"sha512-qvQYH6mPuE46uFcWLI8BdGaJpB5taX4lltbSIw5GF4iODh2xIgyz5ii1WpuzPFUknHCps0mi4mFGR44bjdZlZg==\" \n",
    "        crossorigin=\"anonymous\">\n",
    "</script>\n",
    "\n",
    "<div id=\"RP-T-1930-22_highres\" style=\"width: 800px; height: 400px; background-color: snow\"></div>\n",
    "\n",
    "<script src=\"https://f002.backblazeb2.com/file/dore-data/deepzoom/dzp_RP-T-1930-22_highres/RP-T-1930-22_highres.js?callback=OpenSeadragon\"></script>\n",
    "                                                                                                                   "
   ]
  },
  {
   "cell_type": "markdown",
   "metadata": {},
   "source": [
    "## Multi image test"
   ]
  },
  {
   "cell_type": "markdown",
   "metadata": {},
   "source": [
    "<script src=\"https://cdnjs.cloudflare.com/ajax/libs/openseadragon/2.4.2/openseadragon.min.js\" \n",
    "        integrity=\"sha512-qvQYH6mPuE46uFcWLI8BdGaJpB5taX4lltbSIw5GF4iODh2xIgyz5ii1WpuzPFUknHCps0mi4mFGR44bjdZlZg==\" \n",
    "        crossorigin=\"anonymous\">\n",
    "</script>\n",
    "\n",
    "<div id=\"all_test3\" style=\"width: 800px; height: 400px; background-color: snow\"></div>\n",
    "\n",
    "<script src=\"https://f002.backblazeb2.com/file/dore-data/deepzoom/viewers/all_test3.js?callback=OpenSeadragon\"></script>"
   ]
  },
  {
   "cell_type": "code",
   "execution_count": null,
   "metadata": {},
   "outputs": [],
   "source": []
  }
 ],
 "metadata": {
  "kernelspec": {
   "display_name": "Python 3",
   "language": "python",
   "name": "python3"
  }
 },
 "nbformat": 4,
 "nbformat_minor": 2
}
