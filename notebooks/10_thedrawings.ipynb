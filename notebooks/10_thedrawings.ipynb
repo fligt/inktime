{
 "cells": [
  {
   "cell_type": "markdown",
   "metadata": {},
   "source": [
    "# Rembrandt drawings in Rijksmuseum collection "
   ]
  },
  {
   "cell_type": "markdown",
   "metadata": {},
   "source": [
    "*An overview of the Rijksmuseum Rembrandt drawings.*"
   ]
  },
  {
   "cell_type": "markdown",
   "metadata": {},
   "source": [
    "## Overview "
   ]
  },
  {
   "cell_type": "markdown",
   "metadata": {},
   "source": [
    "*Need table here*"
   ]
  },
  {
   "cell_type": "markdown",
   "metadata": {},
   "source": [
    "## Deepzoom single image test"
   ]
  },
  {
   "cell_type": "markdown",
   "metadata": {},
   "source": [
    "RP-T-1930-22_highres"
   ]
  },
  {
   "cell_type": "markdown",
   "metadata": {},
   "source": [
    "<script src=\"https://cdnjs.cloudflare.com/ajax/libs/openseadragon/2.4.2/openseadragon.min.js\" \n",
    "        integrity=\"sha512-qvQYH6mPuE46uFcWLI8BdGaJpB5taX4lltbSIw5GF4iODh2xIgyz5ii1WpuzPFUknHCps0mi4mFGR44bjdZlZg==\" \n",
    "        crossorigin=\"anonymous\">\n",
    "</script>\n",
    "\n",
    "<div id=\"RP-T-1930-22_highres\" style=\"width: 800px; height: 400px; background-color: snow\"></div>\n",
    "\n",
    "<script src=\"https://f002.backblazeb2.com/file/dore-data/deepzoom/dzp_RP-T-1930-22_highres/RP-T-1930-22_highres.js?callback=OpenSeadragon\"></script>\n",
    "                                                                                                                   "
   ]
  },
  {
   "cell_type": "markdown",
   "metadata": {},
   "source": [
    "RP-T-1930-9_Trans-Recto\n",
    "\n",
    "<script src=\"https://cdnjs.cloudflare.com/ajax/libs/openseadragon/2.4.2/openseadragon.min.js\" \n",
    "        integrity=\"sha512-qvQYH6mPuE46uFcWLI8BdGaJpB5taX4lltbSIw5GF4iODh2xIgyz5ii1WpuzPFUknHCps0mi4mFGR44bjdZlZg==\" \n",
    "        crossorigin=\"anonymous\">\n",
    "</script>\n",
    "\n",
    "<div id=\"RP-T-1930-9_Trans-Recto\" style=\"width: 800px; height: 400px; background-color: snow\"></div>\n",
    "\n",
    "<script src=\"https://f002.backblazeb2.com/file/dore-data/deepzoom/dzp_RP-T-1930-9_Trans-Recto/RP-T-1930-9_Trans-Recto.js?callback=OpenSeadragon\"></script>"
   ]
  },
  {
   "cell_type": "markdown",
   "metadata": {},
   "source": [
    "## Multi image test"
   ]
  },
  {
   "cell_type": "markdown",
   "metadata": {},
   "source": [
    "<script src=\"https://cdnjs.cloudflare.com/ajax/libs/openseadragon/2.4.2/openseadragon.min.js\" \n",
    "        integrity=\"sha512-qvQYH6mPuE46uFcWLI8BdGaJpB5taX4lltbSIw5GF4iODh2xIgyz5ii1WpuzPFUknHCps0mi4mFGR44bjdZlZg==\" \n",
    "        crossorigin=\"anonymous\">\n",
    "</script>\n",
    "\n",
    "<div id=\"all_test3\" style=\"width: 800px; height: 400px; background-color: snow\"></div>\n",
    "\n",
    "<script src=\"https://f002.backblazeb2.com/file/dore-data/deepzoom/viewers/all_test3.js?callback=OpenSeadragon\"></script>"
   ]
  },
  {
   "cell_type": "markdown",
   "metadata": {},
   "source": [
    "## Multi image html snippet "
   ]
  },
  {
   "cell_type": "markdown",
   "metadata": {},
   "source": [
    "<div id=\"4a6991df\" style=\"width: 800px; height: 600px; background-color: gray\">deepzoom viewer</div>\n",
    "<script src=\"https://cdnjs.cloudflare.com/ajax/libs/openseadragon/2.4.2/openseadragon.min.js\"\n",
    "integrity=\"sha512-qvQYH6mPuE46uFcWLI8BdGaJpB5taX4lltbSIw5GF4iODh2xIgyz5ii1WpuzPFUknHCps0mi4mFGR44bjdZlZg==\"\n",
    "crossorigin=\"anonymous\">\n",
    "</script>\n",
    "<script type=\"text/javascript\">\n",
    "var viewer = OpenSeadragon({\n",
    "    id: \"4a6991df\",\n",
    "    prefixUrl: \"https://cdnjs.cloudflare.com/ajax/libs/openseadragon/2.4.2/images/\",\n",
    "    tileSources: [{\n",
    "  \"Image\": {\n",
    "    \"xmlns\": \"http://schemas.microsoft.com/deepzoom/2008\",\n",
    "    \"Url\": \"https://f002.backblazeb2.com/file/dore-data/deepzoom/dzp_RP-T-1930-22_highres/RP-T-1930-22_highres_files/\",\n",
    "    \"Format\": \"jpeg\",\n",
    "    \"Overlap\": \"1\",\n",
    "    \"TileSize\": \"254\",\n",
    "    \"Size\": {\n",
    "      \"Height\": \"5028\",\n",
    "      \"Width\": \"4436\"\n",
    "    }\n",
    "  }\n",
    "},\n",
    "{\n",
    "  \"Image\": {\n",
    "    \"xmlns\": \"http://schemas.microsoft.com/deepzoom/2008\",\n",
    "    \"Url\": \"https://f002.backblazeb2.com/file/dore-data/deepzoom/dzp_RP-T-1930-51_highres/RP-T-1930-51_highres_files/\",\n",
    "    \"Format\": \"jpeg\",\n",
    "    \"Overlap\": \"1\",\n",
    "    \"TileSize\": \"254\",\n",
    "    \"Size\": {\n",
    "      \"Height\": \"5814\",\n",
    "      \"Width\": \"4180\"\n",
    "    }\n",
    "  }\n",
    "},\n",
    "{\n",
    "  \"Image\": {\n",
    "    \"xmlns\": \"http://schemas.microsoft.com/deepzoom/2008\",\n",
    "    \"Url\": \"https://f002.backblazeb2.com/file/dore-data/deepzoom/dzp_RP-T-1930-9_Trans-Recto/RP-T-1930-9_Trans-Recto_files/\",\n",
    "    \"Format\": \"jpeg\",\n",
    "    \"Overlap\": \"1\",\n",
    "    \"TileSize\": \"254\",\n",
    "    \"Size\": {\n",
    "      \"Height\": \"17400\",\n",
    "      \"Width\": \"23200\"\n",
    "    }\n",
    "  }\n",
    "}],\n",
    "    sequenceMode: true,\n",
    "    preserveViewport: true,\n",
    "    showReferenceStrip: true\n",
    " });\n",
    "</script>"
   ]
  },
  {
   "cell_type": "code",
   "execution_count": null,
   "metadata": {},
   "outputs": [],
   "source": []
  }
 ],
 "metadata": {
  "kernelspec": {
   "display_name": "Python 3",
   "language": "python",
   "name": "python3"
  }
 },
 "nbformat": 4,
 "nbformat_minor": 2
}
