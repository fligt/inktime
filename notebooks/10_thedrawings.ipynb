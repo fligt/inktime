{
 "cells": [
  {
   "cell_type": "markdown",
   "metadata": {},
   "source": [
    "# Rembrandt drawings in Rijksmuseum collection "
   ]
  },
  {
   "cell_type": "markdown",
   "metadata": {},
   "source": [
    "*An overview of the Rijksmuseum Rembrandt drawings.*"
   ]
  },
  {
   "cell_type": "markdown",
   "metadata": {},
   "source": [
    "## Overview "
   ]
  },
  {
   "cell_type": "markdown",
   "metadata": {},
   "source": [
    "*Need table here*"
   ]
  },
  {
   "cell_type": "markdown",
   "metadata": {},
   "source": [
    "## Deepzoom mult-image test "
   ]
  },
  {
   "cell_type": "markdown",
   "metadata": {},
   "source": [
    "<div id=\"openseadragon2\" style=\"width: 800px; height: 600px; background-color: gray\"></div>\n",
    "\n",
    "<script src=\"https://cdnjs.cloudflare.com/ajax/libs/openseadragon/2.4.2/openseadragon.min.js\" \n",
    "        integrity=\"sha512-qvQYH6mPuE46uFcWLI8BdGaJpB5taX4lltbSIw5GF4iODh2xIgyz5ii1WpuzPFUknHCps0mi4mFGR44bjdZlZg==\" \n",
    "        crossorigin=\"anonymous\">\n",
    "</script>\n",
    "\n",
    "<script type=\"text/javascript\">\n",
    "var viewer = OpenSeadragon({\n",
    "    id: \"openseadragon2\",\n",
    "    prefixUrl: \"https://cdnjs.cloudflare.com/ajax/libs/openseadragon/2.4.2/images/\", \n",
    "    tileSources: [{\n",
    "        Image: {\n",
    "           xmlns:    \"http://schemas.microsoft.com/deepzoom/2008\",\n",
    "           Url:      \"https://dore-data.s3.us-west-002.backblazeb2.com/viewers/RP-T-1964-127-recto_files/\", \n",
    "           Format: \"jpeg\", \n",
    "           Overlap: \"1\",  \n",
    "           TileSize: \"254\", \n",
    "           Size: {\n",
    "               Height: \"3840\", \n",
    "               Width: \"4824\" \n",
    "            }\n",
    "        }\n",
    "    }, \n",
    "    {\n",
    "        Image: {\n",
    "           xmlns:    \"http://schemas.microsoft.com/deepzoom/2008\",\n",
    "           Url:      \"https://dore-data.s3.us-west-002.backblazeb2.com/viewers/RP-T-1964-127-recto_files/\", \n",
    "           Format: \"jpeg\", \n",
    "           Overlap: \"1\",  \n",
    "           TileSize: \"254\", \n",
    "           Size: {\n",
    "               Height: \"3840\", \n",
    "               Width: \"4824\" \n",
    "            }\n",
    "        }\n",
    "    }], \n",
    "    sequenceMode: true,\n",
    "    preserveViewport: true   \n",
    " });\n",
    "</script>\n",
    "\n"
   ]
  }
 ],
 "metadata": {
  "kernelspec": {
   "display_name": "Python 3",
   "language": "python",
   "name": "python3"
  }
 },
 "nbformat": 4,
 "nbformat_minor": 2
}
