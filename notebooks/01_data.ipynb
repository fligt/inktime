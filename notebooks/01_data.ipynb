{
 "cells": [
  {
   "cell_type": "code",
   "execution_count": null,
   "metadata": {},
   "outputs": [],
   "source": [
    "#default_exp data"
   ]
  },
  {
   "cell_type": "code",
   "execution_count": null,
   "metadata": {},
   "outputs": [],
   "source": [
    "#hide \n",
    "%load_ext autoreload\n",
    "%autoreload 2"
   ]
  },
  {
   "cell_type": "markdown",
   "metadata": {},
   "source": [
    "# Downloading demo data  "
   ]
  },
  {
   "cell_type": "markdown",
   "metadata": {},
   "source": [
    "## Example "
   ]
  },
  {
   "cell_type": "markdown",
   "metadata": {},
   "source": [
    "The datasets that are used in the documentation examples below are not included the `inktime` package but need to be downloaded individually. This module provides functions that download the required data files into a cache directory once.   "
   ]
  },
  {
   "cell_type": "code",
   "execution_count": null,
   "metadata": {},
   "outputs": [],
   "source": [
    "import inktime as ink"
   ]
  },
  {
   "cell_type": "code",
   "execution_count": null,
   "metadata": {},
   "outputs": [],
   "source": []
  },
  {
   "cell_type": "markdown",
   "metadata": {},
   "source": [
    "## API"
   ]
  },
  {
   "cell_type": "code",
   "execution_count": null,
   "metadata": {},
   "outputs": [],
   "source": [
    "#export \n",
    "import pkg_resources\n",
    "import pooch\n",
    "import numpy\n",
    "import matplotlib.pyplot as plt\n",
    "\n",
    "\n",
    "GOODBOY = pooch.create(\n",
    "    # Use the default cache folder for the OS\n",
    "    path=pooch.os_cache('inktime'),\n",
    "    # The remote data is on Github \n",
    "    base_url='https://github.com/fligt/inktime/raw/master/data/',\n",
    "    version=None,\n",
    "    # If this is a development version, get the data from the master branch\n",
    "    version_dev=None,\n",
    "    # We'll load it from a file below\n",
    "    registry=None,\n",
    ")\n",
    "\n",
    "registry_file = pkg_resources.resource_stream('inktime', 'registry.txt')\n",
    "GOODBOY.load_registry(registry_file)\n",
    "\n",
    "def fetch_star(): \n",
    "    '''Download demo data file *star.png* into cache once. \n",
    "    \n",
    "    Returns: \n",
    "    --------\n",
    "    \n",
    "    im: numpy array'''\n",
    "    \n",
    "    fpath = GOODBOY.fetch('star.png') \n",
    "    im = plt.imread(fpath) \n",
    "    \n",
    "    return im\n",
    "\n",
    "def fetch_blackwhite(): \n",
    "    '''Download demo data file *blackwhite.png* into cache once. \n",
    "    \n",
    "    Returns: \n",
    "    --------\n",
    "    \n",
    "    im: numpy array'''\n",
    "    \n",
    "    fpath = GOODBOY.fetch('blackwhite.png') \n",
    "    im = plt.imread(fpath) \n",
    "    \n",
    "    return im "
   ]
  },
  {
   "cell_type": "code",
   "execution_count": null,
   "metadata": {},
   "outputs": [],
   "source": []
  }
 ],
 "metadata": {
  "kernelspec": {
   "display_name": "Python 3",
   "language": "python",
   "name": "python3"
  }
 },
 "nbformat": 4,
 "nbformat_minor": 2
}
