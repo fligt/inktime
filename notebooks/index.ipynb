{
 "cells": [
  {
   "cell_type": "markdown",
   "metadata": {},
   "source": [
    "# Inktime\n",
    "\n",
    "> Color physics simulations for interdisciplinary investigation of historic drawings and photographs"
   ]
  },
  {
   "cell_type": "markdown",
   "metadata": {},
   "source": [
    "The Kubelka-Munk equations of color are rather complicated, as can be seen in the table below..."
   ]
  },
  {
   "cell_type": "markdown",
   "metadata": {},
   "source": [
    "<img width=50% src=\"https://raw.githubusercontent.com/fligt/inktime/master/docs/images/stackplot_detail.png\">\n",
    "\n",
    "Kubelka"
   ]
  },
  {
   "cell_type": "code",
   "execution_count": null,
   "metadata": {},
   "outputs": [],
   "source": []
  }
 ],
 "metadata": {
  "kernelspec": {
   "display_name": "Python 3",
   "language": "python",
   "name": "python3"
  }
 },
 "nbformat": 4,
 "nbformat_minor": 2
}
