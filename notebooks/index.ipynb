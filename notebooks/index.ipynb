{
 "cells": [
  {
   "cell_type": "markdown",
   "metadata": {},
   "source": [
    "# Inktime\n",
    "\n",
    "> Color physics simulations for interdisciplinary investigation of historic drawings and photographs"
   ]
  },
  {
   "cell_type": "markdown",
   "metadata": {},
   "source": [
    "What was the original appearance of Vincent van Gogh's ink drawings? Can we predict the fading behavior of color photographs? Many intriguing questions that we have about the colors of artworks on paper require the ability to model the color physics of translucent colors.   \n",
    "\n",
    "`Inktime` is an open source python package that enables simulation of color change of translucent and transparent inks, dyes and paints on paper.   "
   ]
  },
  {
   "cell_type": "markdown",
   "metadata": {},
   "source": [
    "<img width=700 src=\"images/logwood.png\">\n",
    "\n",
    "*Simulated color change of a logwood ink (middle row) on a yellowing paper (bottom row) containing methyl-violet (top row).*"
   ]
  },
  {
   "cell_type": "markdown",
   "metadata": {},
   "source": [
    "The `inktime` package is currently (Jan 2022) under development by myself and Rahul Sharma. Please visit this repository in a few weeks time for further developments and instructions for use! "
   ]
  }
 ],
 "metadata": {
  "kernelspec": {
   "display_name": "Python 3",
   "language": "python",
   "name": "python3"
  }
 },
 "nbformat": 4,
 "nbformat_minor": 2
}
