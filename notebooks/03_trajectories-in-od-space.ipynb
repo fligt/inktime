{
 "cells": [
  {
   "cell_type": "code",
   "execution_count": null,
   "metadata": {},
   "outputs": [],
   "source": [
    "#default_exp fading"
   ]
  },
  {
   "cell_type": "markdown",
   "metadata": {},
   "source": [
    "# Trajectories in OD space \n",
    "\n",
    "> Fading of dyes "
   ]
  },
  {
   "cell_type": "markdown",
   "metadata": {},
   "source": [
    "The fading of dyes essentially results from the break down of colored molecules into uncolored ones due to exposure to light. The rate at which fading happens is governed by specific sensitivities of different dyes present in the object and the light exposure conditions.  \n",
    "\n",
    "In the real world this chemical kinetics of fading can be rather complicated. For now, let's keep things simple and assume that the fading rate is proportional to the concentration *C* of the dye. "
   ]
  },
  {
   "cell_type": "markdown",
   "metadata": {},
   "source": [
    "$$ \\frac{dC}{dt} = -kC $$"
   ]
  },
  {
   "cell_type": "markdown",
   "metadata": {},
   "source": [
    "This is what chemist call a first order kinetic...."
   ]
  }
 ],
 "metadata": {
  "kernelspec": {
   "display_name": "Python 3",
   "language": "python",
   "name": "python3"
  }
 },
 "nbformat": 4,
 "nbformat_minor": 2
}
